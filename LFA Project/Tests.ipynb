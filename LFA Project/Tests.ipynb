{
 "cells": [
  {
   "cell_type": "markdown",
   "metadata": {},
   "source": [
    "## Models Testing and comparaisons"
   ]
  },
  {
   "cell_type": "code",
   "execution_count": 2,
   "metadata": {},
   "outputs": [
    {
     "name": "stderr",
     "output_type": "stream",
     "text": [
      "/anaconda3/lib/python3.6/site-packages/sklearn/cross_validation.py:41: DeprecationWarning: This module was deprecated in version 0.18 in favor of the model_selection module into which all the refactored classes and functions are moved. Also note that the interface of the new CV iterators are different from that of this module. This module will be removed in 0.20.\n",
      "  \"This module will be removed in 0.20.\", DeprecationWarning)\n"
     ]
    }
   ],
   "source": [
    "from sklearn.tree import DecisionTreeClassifier\n",
    "from sklearn.metrics import accuracy_score\n",
    "from sklearn import tree\n",
    "from sklearn.tree import _tree\n",
    "from sklearn.metrics import confusion_matrix\n",
    "from sklearn.cross_validation import train_test_split\n",
    "\n",
    "\n",
    "from FCM_SS import FCM_SS\n",
    "\n",
    "import matplotlib.pyplot as plt\n",
    "import itertools\n",
    "import copy\n",
    "import numpy as np\n",
    "\n",
    "DATASETS_PATHS = ['datasets/melanomaTest.dat.csv', 'datasets/seeds_dataset.csv', 'datasets/CancerDiag2_headers.csv', 'datasets/Leukemia_Mile_210.csv'] # http://cibcb.org/data/\n",
    "\n",
    "%matplotlib inline"
   ]
  },
  {
   "cell_type": "markdown",
   "metadata": {},
   "source": [
    "## Loading datasets"
   ]
  },
  {
   "cell_type": "code",
   "execution_count": 3,
   "metadata": {},
   "outputs": [],
   "source": [
    "def loadDataset(filename):\n",
    "    dataset = np.genfromtxt(filename, delimiter=';')\n",
    "    \n",
    "    # save all the labels to calculate the performance of our algorithm\n",
    "    true_labels = copy.copy(dataset[:, -1])\n",
    "    labels_names = np.unique(true_labels)\n",
    "    \n",
    "    return dataset, true_labels, labels_names\n",
    "\n",
    "DATASETS = []\n",
    "for path in DATASETS_PATHS:\n",
    "    DATASETS.append(loadDataset(path))\n",
    "\n",
    "index_dataset = 3\n",
    "percentage_ommission = 80\n",
    "dataset = DATASETS[index_dataset][0]\n",
    "true_labels = DATASETS[index_dataset][1]\n",
    "labels_names = DATASETS[index_dataset][2]"
   ]
  },
  {
   "cell_type": "markdown",
   "metadata": {},
   "source": [
    "## Remove some labels"
   ]
  },
  {
   "cell_type": "code",
   "execution_count": 4,
   "metadata": {},
   "outputs": [],
   "source": [
    "def removeLabels(dataset, labels_name, percentage):  \n",
    "    result = copy.copy(dataset)\n",
    "    # remove percentage of each different labels for test purpose       \n",
    "    for label in labels_name:\n",
    "        subArrayIdx = np.where(result[:,-1] == label)[0]\n",
    "        if len(subArrayIdx):\n",
    "            idx = np.random.choice(subArrayIdx, int(len(subArrayIdx)*percentage/100), replace=False)\n",
    "            for i in idx:\n",
    "                result[i][-1] = 0\n",
    "            \n",
    "\n",
    "    return result\n",
    "\n",
    "dataset = removeLabels(dataset, labels_names, percentage_ommission)"
   ]
  },
  {
   "cell_type": "markdown",
   "metadata": {},
   "source": [
    "## Perform Tests"
   ]
  },
  {
   "cell_type": "code",
   "execution_count": 5,
   "metadata": {},
   "outputs": [],
   "source": [
    "fcm = FCM_SS() \n",
    "fcm.setParams(fuzzy_param=2, membership_threshold=0.95)\n",
    "labels, centers, mb = fcm.clusterize(dataset, labels_names)"
   ]
  },
  {
   "cell_type": "markdown",
   "metadata": {},
   "source": [
    "### Confusion Matrix and scores"
   ]
  },
  {
   "cell_type": "code",
   "execution_count": 6,
   "metadata": {},
   "outputs": [
    {
     "data": {
      "image/png": "[encoded data removed]",
      "text/plain": [
       "<matplotlib.figure.Figure at 0x107d90898>"
      ]
     },
     "metadata": {},
     "output_type": "display_data"
    }
   ],
   "source": [
    "labels_names_ref = labels_names\n",
    "if 0 in labels:\n",
    "    labels_names_ref = np.append([\"Unknown\"], labels_names)\n",
    "conf_mat = confusion_matrix(labels, true_labels)\n",
    "def plot_confusion_matrix(cm, title='Confusion matrix', cmap=plt.cm.Blues):\n",
    "    plt.imshow(cm, interpolation='nearest', cmap=cmap)\n",
    "    plt.title(title)\n",
    "    plt.colorbar()\n",
    "    tick_marks = np.arange(len(labels_names_ref))\n",
    "    plt.xticks(tick_marks, labels_names_ref, rotation=45)\n",
    "    plt.yticks(tick_marks, labels_names_ref)\n",
    "    plt.tight_layout()\n",
    "    plt.ylabel('Predicted label')\n",
    "    plt.xlabel('True label')\n",
    "\n",
    "    thresh = cm.max() / 2.\n",
    "    for i, j in itertools.product(range(cm.shape[0]), range(cm.shape[1])):\n",
    "        plt.text(j, i, format(cm[i, j]),\n",
    "                 horizontalalignment=\"center\",\n",
    "                 color=\"white\" if cm[i, j] > thresh else \"black\")\n",
    "        \n",
    "plot_confusion_matrix(conf_mat)"
   ]
  },
  {
   "cell_type": "code",
   "execution_count": 7,
   "metadata": {},
   "outputs": [
    {
     "name": "stdout",
     "output_type": "stream",
     "text": [
      "Accuracy: 0.8974236641221374\n",
      "Precision:  nan\n",
      "Recall:  0.5\n",
      "F1-Score:  nan\n"
     ]
    },
    {
     "name": "stderr",
     "output_type": "stream",
     "text": [
      "/anaconda3/lib/python3.6/site-packages/ipykernel_launcher.py:2: RuntimeWarning: invalid value encountered in long_scalars\n",
      "  \n"
     ]
    }
   ],
   "source": [
    "print(\"Accuracy:\", accuracy_score(labels, true_labels))\n",
    "precision = (conf_mat[0][0]/(conf_mat[0][0] + conf_mat[1][0]) + conf_mat[1][1]/(conf_mat[1][1] + conf_mat[0][1]))/2\n",
    "print(\"Precision: \", precision)\n",
    "recall = (conf_mat[0][0]/(conf_mat[0][0] + conf_mat[0][1]) + conf_mat[1][1]/(conf_mat[1][1] + conf_mat[1][0]))/2\n",
    "print(\"Recall: \", recall)\n",
    "f1score = 2*(precision*recall)/(precision+recall)\n",
    "print(\"F1-Score: \", f1score)"
   ]
  },
  {
   "cell_type": "code",
   "execution_count": 8,
   "metadata": {},
   "outputs": [
    {
     "ename": "KeyboardInterrupt",
     "evalue": "",
     "output_type": "error",
     "traceback": [
      "\u001b[0;31m---------------------------------------------------------------------------\u001b[0m",
      "\u001b[0;31mKeyboardInterrupt\u001b[0m                         Traceback (most recent call last)",
      "\u001b[0;32m<ipython-input-8-b0ec3e240176>\u001b[0m in \u001b[0;36m<module>\u001b[0;34m()\u001b[0m\n\u001b[1;32m     13\u001b[0m     \u001b[0;32mreturn\u001b[0m \u001b[0maccuracy_score\u001b[0m\u001b[0;34m(\u001b[0m\u001b[0mlabels\u001b[0m\u001b[0;34m,\u001b[0m \u001b[0mtrue_labels\u001b[0m\u001b[0;34m)\u001b[0m\u001b[0;34m\u001b[0m\u001b[0m\n\u001b[1;32m     14\u001b[0m \u001b[0;34m\u001b[0m\u001b[0m\n\u001b[0;32m---> 15\u001b[0;31m \u001b[0mprint\u001b[0m\u001b[0;34m(\u001b[0m\u001b[0mcomputeClustering\u001b[0m\u001b[0;34m(\u001b[0m\u001b[0;36m2\u001b[0m\u001b[0;34m,\u001b[0m \u001b[0;36m0.95\u001b[0m\u001b[0;34m)\u001b[0m\u001b[0;34m)\u001b[0m\u001b[0;34m\u001b[0m\u001b[0m\n\u001b[0m\u001b[1;32m     16\u001b[0m \u001b[0mfig\u001b[0m \u001b[0;34m=\u001b[0m \u001b[0mplt\u001b[0m\u001b[0;34m.\u001b[0m\u001b[0mfigure\u001b[0m\u001b[0;34m(\u001b[0m\u001b[0mnum\u001b[0m\u001b[0;34m=\u001b[0m\u001b[0;32mNone\u001b[0m\u001b[0;34m,\u001b[0m \u001b[0mfigsize\u001b[0m\u001b[0;34m=\u001b[0m\u001b[0;34m(\u001b[0m\u001b[0;36m15\u001b[0m\u001b[0;34m,\u001b[0m \u001b[0;36m10\u001b[0m\u001b[0;34m)\u001b[0m\u001b[0;34m,\u001b[0m \u001b[0mdpi\u001b[0m\u001b[0;34m=\u001b[0m\u001b[0;36m80\u001b[0m\u001b[0;34m,\u001b[0m \u001b[0mfacecolor\u001b[0m\u001b[0;34m=\u001b[0m\u001b[0;34m'w'\u001b[0m\u001b[0;34m,\u001b[0m \u001b[0medgecolor\u001b[0m\u001b[0;34m=\u001b[0m\u001b[0;34m'k'\u001b[0m\u001b[0;34m)\u001b[0m\u001b[0;34m\u001b[0m\u001b[0m\n\u001b[1;32m     17\u001b[0m \u001b[0max\u001b[0m \u001b[0;34m=\u001b[0m \u001b[0mfig\u001b[0m\u001b[0;34m.\u001b[0m\u001b[0mgca\u001b[0m\u001b[0;34m(\u001b[0m\u001b[0mprojection\u001b[0m\u001b[0;34m=\u001b[0m\u001b[0;34m'3d'\u001b[0m\u001b[0;34m)\u001b[0m\u001b[0;34m\u001b[0m\u001b[0m\n",
      "\u001b[0;32m<ipython-input-8-b0ec3e240176>\u001b[0m in \u001b[0;36mcomputeClustering\u001b[0;34m(fuzzy_param, mb_threshold_value)\u001b[0m\n\u001b[1;32m     10\u001b[0m \u001b[0;32mdef\u001b[0m \u001b[0mcomputeClustering\u001b[0m\u001b[0;34m(\u001b[0m\u001b[0mfuzzy_param\u001b[0m\u001b[0;34m,\u001b[0m \u001b[0mmb_threshold_value\u001b[0m\u001b[0;34m)\u001b[0m\u001b[0;34m:\u001b[0m\u001b[0;34m\u001b[0m\u001b[0m\n\u001b[1;32m     11\u001b[0m     \u001b[0mfcm\u001b[0m\u001b[0;34m.\u001b[0m\u001b[0msetParams\u001b[0m\u001b[0;34m(\u001b[0m\u001b[0mfuzzy_param\u001b[0m\u001b[0;34m=\u001b[0m\u001b[0mfuzzy_param\u001b[0m\u001b[0;34m,\u001b[0m \u001b[0mmembership_threshold\u001b[0m\u001b[0;34m=\u001b[0m\u001b[0mmb_threshold_value\u001b[0m\u001b[0;34m)\u001b[0m\u001b[0;34m\u001b[0m\u001b[0m\n\u001b[0;32m---> 12\u001b[0;31m     \u001b[0mlabels\u001b[0m\u001b[0;34m,\u001b[0m \u001b[0mcenters\u001b[0m\u001b[0;34m,\u001b[0m \u001b[0mmb\u001b[0m \u001b[0;34m=\u001b[0m \u001b[0mfcm\u001b[0m\u001b[0;34m.\u001b[0m\u001b[0mclusterize\u001b[0m\u001b[0;34m(\u001b[0m\u001b[0mdataset\u001b[0m\u001b[0;34m,\u001b[0m \u001b[0mlabels_names\u001b[0m\u001b[0;34m)\u001b[0m\u001b[0;34m\u001b[0m\u001b[0m\n\u001b[0m\u001b[1;32m     13\u001b[0m     \u001b[0;32mreturn\u001b[0m \u001b[0maccuracy_score\u001b[0m\u001b[0;34m(\u001b[0m\u001b[0mlabels\u001b[0m\u001b[0;34m,\u001b[0m \u001b[0mtrue_labels\u001b[0m\u001b[0;34m)\u001b[0m\u001b[0;34m\u001b[0m\u001b[0m\n\u001b[1;32m     14\u001b[0m \u001b[0;34m\u001b[0m\u001b[0m\n",
      "\u001b[0;32m~/Documents/HEIG-VD/3eme Annee - 2017-2018/2eme semestre/Logique Flou et Applications/LFA_Labs/LFA Project/FCM_SS.py\u001b[0m in \u001b[0;36mclusterize\u001b[0;34m(self, dataset, labels_names)\u001b[0m\n\u001b[1;32m     96\u001b[0m         \u001b[0;32mwhile\u001b[0m\u001b[0;34m(\u001b[0m\u001b[0;32mnot\u001b[0m \u001b[0mdone\u001b[0m \u001b[0;32mand\u001b[0m \u001b[0mc\u001b[0m \u001b[0;34m<\u001b[0m \u001b[0mmath\u001b[0m\u001b[0;34m.\u001b[0m\u001b[0msqrt\u001b[0m\u001b[0;34m(\u001b[0m\u001b[0mlen\u001b[0m\u001b[0;34m(\u001b[0m\u001b[0mdataset\u001b[0m\u001b[0;34m)\u001b[0m\u001b[0;34m)\u001b[0m\u001b[0;34m)\u001b[0m\u001b[0;34m:\u001b[0m\u001b[0;34m\u001b[0m\u001b[0m\n\u001b[1;32m     97\u001b[0m                 \u001b[0;31m#Compute fcm with the current parameters and clusters number\u001b[0m\u001b[0;34m\u001b[0m\u001b[0;34m\u001b[0m\u001b[0m\n\u001b[0;32m---> 98\u001b[0;31m             \u001b[0mmb\u001b[0m\u001b[0;34m,\u001b[0m \u001b[0mcenters\u001b[0m \u001b[0;34m=\u001b[0m \u001b[0mself\u001b[0m\u001b[0;34m.\u001b[0m\u001b[0mfcm\u001b[0m\u001b[0;34m(\u001b[0m\u001b[0mdataset\u001b[0m\u001b[0;34m[\u001b[0m\u001b[0;34m:\u001b[0m\u001b[0;34m,\u001b[0m\u001b[0;34m:\u001b[0m\u001b[0;34m-\u001b[0m\u001b[0;36m1\u001b[0m\u001b[0;34m]\u001b[0m\u001b[0;34m,\u001b[0m \u001b[0mc\u001b[0m\u001b[0;34m,\u001b[0m \u001b[0mm\u001b[0m\u001b[0;34m=\u001b[0m\u001b[0mself\u001b[0m\u001b[0;34m.\u001b[0m\u001b[0mfuzzy_param\u001b[0m\u001b[0;34m)\u001b[0m\u001b[0;34m\u001b[0m\u001b[0m\n\u001b[0m\u001b[1;32m     99\u001b[0m             \u001b[0mlabels\u001b[0m \u001b[0;34m=\u001b[0m \u001b[0mself\u001b[0m\u001b[0;34m.\u001b[0m\u001b[0mgetClusters\u001b[0m\u001b[0;34m(\u001b[0m\u001b[0mdataset\u001b[0m\u001b[0;34m[\u001b[0m\u001b[0;34m:\u001b[0m\u001b[0;34m,\u001b[0m\u001b[0;34m:\u001b[0m\u001b[0;34m-\u001b[0m\u001b[0;36m1\u001b[0m\u001b[0;34m]\u001b[0m\u001b[0;34m,\u001b[0m \u001b[0mmb\u001b[0m\u001b[0;34m.\u001b[0m\u001b[0mT\u001b[0m\u001b[0;34m)\u001b[0m\u001b[0;34m\u001b[0m\u001b[0m\n\u001b[1;32m    100\u001b[0m \u001b[0;34m\u001b[0m\u001b[0m\n",
      "\u001b[0;32m~/Documents/HEIG-VD/3eme Annee - 2017-2018/2eme semestre/Logique Flou et Applications/LFA_Labs/LFA Project/FCM_SS.py\u001b[0m in \u001b[0;36mfcm\u001b[0;34m(self, x, c, m, v, max_iter, error)\u001b[0m\n\u001b[1;32m     33\u001b[0m             \u001b[0mu_old\u001b[0m \u001b[0;34m=\u001b[0m \u001b[0mu\u001b[0m\u001b[0;34m\u001b[0m\u001b[0m\n\u001b[1;32m     34\u001b[0m             \u001b[0mum\u001b[0m \u001b[0;34m=\u001b[0m \u001b[0mu\u001b[0m\u001b[0;34m**\u001b[0m\u001b[0mm\u001b[0m\u001b[0;34m\u001b[0m\u001b[0m\n\u001b[0;32m---> 35\u001b[0;31m             \u001b[0mv\u001b[0m \u001b[0;34m=\u001b[0m \u001b[0mnp\u001b[0m\u001b[0;34m.\u001b[0m\u001b[0mdot\u001b[0m\u001b[0;34m(\u001b[0m\u001b[0mum\u001b[0m\u001b[0;34m,\u001b[0m \u001b[0mx\u001b[0m\u001b[0;34m)\u001b[0m\u001b[0;34m/\u001b[0m\u001b[0mnp\u001b[0m\u001b[0;34m.\u001b[0m\u001b[0msum\u001b[0m\u001b[0;34m(\u001b[0m\u001b[0mum\u001b[0m\u001b[0;34m,\u001b[0m \u001b[0maxis\u001b[0m\u001b[0;34m=\u001b[0m\u001b[0;36m1\u001b[0m\u001b[0;34m,\u001b[0m \u001b[0mkeepdims\u001b[0m\u001b[0;34m=\u001b[0m\u001b[0;32mTrue\u001b[0m\u001b[0;34m)\u001b[0m\u001b[0;34m\u001b[0m\u001b[0m\n\u001b[0m\u001b[1;32m     36\u001b[0m             \u001b[0mu\u001b[0m \u001b[0;34m=\u001b[0m \u001b[0mself\u001b[0m\u001b[0;34m.\u001b[0m\u001b[0mfcm_get_u\u001b[0m\u001b[0;34m(\u001b[0m\u001b[0mx\u001b[0m\u001b[0;34m,\u001b[0m \u001b[0mv\u001b[0m\u001b[0;34m,\u001b[0m \u001b[0mm\u001b[0m\u001b[0;34m)\u001b[0m\u001b[0;34m\u001b[0m\u001b[0m\n\u001b[1;32m     37\u001b[0m             \u001b[0;32mif\u001b[0m \u001b[0mnp\u001b[0m\u001b[0;34m.\u001b[0m\u001b[0mlinalg\u001b[0m\u001b[0;34m.\u001b[0m\u001b[0mnorm\u001b[0m\u001b[0;34m(\u001b[0m\u001b[0mu\u001b[0m \u001b[0;34m-\u001b[0m \u001b[0mu_old\u001b[0m\u001b[0;34m)\u001b[0m \u001b[0;34m<\u001b[0m \u001b[0merror\u001b[0m\u001b[0;34m:\u001b[0m \u001b[0;32mbreak\u001b[0m\u001b[0;34m\u001b[0m\u001b[0m\n",
      "\u001b[0;31mKeyboardInterrupt\u001b[0m: "
     ]
    }
   ],
   "source": [
    "from mpl_toolkits.mplot3d import Axes3D\n",
    "import matplotlib.pyplot as plt\n",
    "from matplotlib import cm\n",
    "from matplotlib.ticker import LinearLocator, FormatStrFormatter\n",
    "import numpy as np\n",
    "\n",
    "fuzzy_params = np.arange(1.1,5,0.5)\n",
    "mb_threshold_values = np.arange(0.8,1.05,0.05)\n",
    "\n",
    "def computeClustering(fuzzy_param, mb_threshold_value):\n",
    "    fcm.setParams(fuzzy_param=fuzzy_param, membership_threshold=mb_threshold_value)\n",
    "    labels, centers, mb = fcm.clusterize(dataset, labels_names)\n",
    "    return accuracy_score(labels, true_labels)\n",
    "\n",
    "print(computeClustering(2, 0.95))\n",
    "fig = plt.figure(num=None, figsize=(15, 10), dpi=80, facecolor='w', edgecolor='k')\n",
    "ax = fig.gca(projection='3d')\n",
    "\n",
    "# Make data.\n",
    "fuzzy_params, mb_threshold_values = np.meshgrid(fuzzy_params, mb_threshold_values)\n",
    "\n",
    "accurencies = np.array([computeClustering(x,y) for x,y in zip(np.ravel(fuzzy_params), np.ravel(mb_threshold_values))])\n",
    "accurencies = accurencies.reshape(mb_threshold_values.shape)\n",
    "\n",
    "graph = ax.plot_surface(fuzzy_params, mb_threshold_values, accurencies, cmap=cm.coolwarm,\n",
    "                       linewidth=0, antialiased=False)\n",
    "\n",
    "ax.set_xlabel('Fuzzy param')\n",
    "ax.set_ylabel('Membership threshold')\n",
    "ax.set_zlabel('Accuracy')\n",
    "\n",
    "# Customize the z axis.\n",
    "ax.set_zlim(0, 1.00)\n",
    "ax.zaxis.set_major_locator(LinearLocator(10))\n",
    "ax.zaxis.set_major_formatter(FormatStrFormatter('%.02f'))\n",
    "\n",
    "# Add a color bar which maps values to colors.\n",
    "fig.colorbar(graph, shrink=0.5, aspect=5)\n",
    "\n",
    "plt.show()"
   ]
  },
  {
   "cell_type": "code",
   "execution_count": 12,
   "metadata": {},
   "outputs": [
    {
     "data": {
      "text/plain": [
       "Text(0.5,0,'Percentage of Unlabeled Data')"
      ]
     },
     "execution_count": 12,
     "metadata": {},
     "output_type": "execute_result"
    },
    {
     "data": {
      "image/png": "[encoded data removed]",
      "text/plain": [
       "<matplotlib.figure.Figure at 0x10b7b69b0>"
      ]
     },
     "metadata": {},
     "output_type": "display_data"
    }
   ],
   "source": [
    "def computeClustering(percentageOmission):\n",
    "    temp_dataset = removeLabels(dataset, labels_names, percentageOmission) \n",
    "    fcm.setParams(fuzzy_param=1.5, membership_threshold=0.925)\n",
    "    labels, centers, mb = fcm.clusterize(temp_dataset, labels_names)\n",
    "    return accuracy_score(labels, true_labels), len(centers)\n",
    "\n",
    "labelOmission = np.arange(0, 100)\n",
    "accurencies = np.array([computeClustering(x) for x in labelOmission])\n",
    "nb_cluster = accurencies[:, -1]\n",
    "accurencies = accurencies[:, 0]\n",
    "nb_cluster.astype(int)\n",
    "fig, ax1 = plt.subplots()\n",
    "\n",
    "ax1.plot(labelOmission, accurencies, lw=2, color=\"blue\")\n",
    "ax1.set_ylabel(\"Accuracy\", fontsize=14, color=\"blue\")\n",
    "for label in ax1.get_yticklabels():\n",
    "    label.set_color(\"blue\")\n",
    "plt.ylim(0.70, 1)\n",
    "ax2 = ax1.twinx()\n",
    "ax2.plot(labelOmission, nb_cluster, lw=2, color=\"red\")\n",
    "ax2.set_ylabel(\"Number of clusters\", fontsize=14, color=\"red\")\n",
    "for label in ax2.get_yticklabels():\n",
    "    label.set_color(\"red\")\n",
    "    \n",
    "ax1.set_xlabel(r'Percentage of Unlabeled Data', fontsize=14)\n",
    "    \n",
    "#ax1.set_title('FI-FCM accurency depending on the percentage of labelised data', fontsize=14);"
   ]
  },
  {
   "cell_type": "code",
   "execution_count": null,
   "metadata": {},
   "outputs": [],
   "source": []
  },
  {
   "cell_type": "markdown",
   "metadata": {},
   "source": [
    "### Rules extraction"
   ]
  },
  {
   "cell_type": "code",
   "execution_count": null,
   "metadata": {},
   "outputs": [],
   "source": [
    "def createDecisionTree(dataset):\n",
    "    #split the dataset\n",
    "    X = dataset[:,0:-2]\n",
    "    Y = dataset[:,-1]\n",
    "    X_train, X_test, y_train, y_test = train_test_split( X, Y, test_size = 0.3, random_state = 100)\n",
    "    \n",
    "    # Create and train the decision tree\n",
    "    tree = DecisionTreeClassifier(criterion = \"entropy\", random_state = 100)\n",
    "    tree.fit(X_train, y_train)\n",
    "    \n",
    "    # Test our tree\n",
    "    y_pred = tree.predict(X_test)\n",
    "    print (\"Tree Accuracy is \", accuracy_score(y_test,y_pred)*100)\n",
    "    return tree\n",
    "\n",
    "def extractRules(tree, feature_names):\n",
    "    tree_ = tree.tree_\n",
    "    feature_name = [\n",
    "        feature_names[i] if i != _tree.TREE_UNDEFINED else \"undefined!\"\n",
    "        for i in tree_.feature\n",
    "    ]\n",
    "    print (\"def tree({}):\".format(\", \".join(feature_names)))\n",
    "\n",
    "    def recurse(node, depth):\n",
    "        indent = \"  \" * depth\n",
    "        if tree_.feature[node] != _tree.TREE_UNDEFINED:\n",
    "            name = feature_name[node]\n",
    "            threshold = tree_.threshold[node]\n",
    "            print (\"{}if {} <= {}:\".format(indent, name, threshold))\n",
    "            recurse(tree_.children_left[node], depth + 1)\n",
    "            print (\"{}else:  # if {} > {}\".format(indent, name, threshold))\n",
    "            recurse(tree_.children_right[node], depth + 1)\n",
    "        else:\n",
    "            print (\"{}return {}\".format(indent, tree_.value[node]))\n",
    "\n",
    "    recurse(0, 1)\n",
    "    \n",
    "dataset[:,-1] = labels\n",
    "\n",
    "extractRules(createDecisionTree(dataset), [\"feature_\"+ str(i) for i in range(len(dataset[0] - 1))])"
   ]
  },
  {
   "cell_type": "code",
   "execution_count": 18,
   "metadata": {},
   "outputs": [
    {
     "name": "stdout",
     "output_type": "stream",
     "text": [
      "ciao\n",
      "ciao\n",
      "ciao\n",
      "ciao\n",
      "[ 9. 14. 14. 45.]\n",
      "[0.82653061 0.90954774 0.73076923 0.96898855]\n",
      "[ 9.  5. 14. 20.]\n",
      "[0.81632653 0.88944724 0.76442308 0.98568702]\n"
     ]
    },
    {
     "data": {
      "text/plain": [
       "Text(0.5,0,'Dataset id')"
      ]
     },
     "execution_count": 18,
     "metadata": {},
     "output_type": "execute_result"
    },
    {
     "data": {
      "image/png": "[encoded data removed]",
      "text/plain": [
       "<matplotlib.figure.Figure at 0x10bee5518>"
      ]
     },
     "metadata": {},
     "output_type": "display_data"
    }
   ],
   "source": [
    "from FCM_SS_2 import FCM_SS_2\n",
    "\n",
    "fcm_1 = FCM_SS()\n",
    "fcm_1.setParams(fuzzy_param=2, membership_threshold=0.95)\n",
    "fcm_2 = FCM_SS_2()\n",
    "fcm_2.setParams(fuzzy_param=2, membership_threshold=0.95)\n",
    "\n",
    "def removeLabels_2(dataset, labels_name, percentage):  \n",
    "    col = np.zeros((len(dataset), 1), float)\n",
    "    for i in range(len(dataset)):\n",
    "        col[i] = dataset[i][-1]\n",
    "\n",
    "    dataset = np.append(dataset, np.asarray(col), axis = 1)\n",
    "    result = copy.copy(dataset)\n",
    "    # remove percentage of each different labels for test purpose       \n",
    "    for label in labels_name:\n",
    "        subArrayIdx = np.where(result[:,-2] == label)[0]\n",
    "        idx = np.random.choice(subArrayIdx, int(len(subArrayIdx)*percentage/100), replace=False)\n",
    "        for i in idx:\n",
    "            result[i][-2] = 0\n",
    "            \n",
    "\n",
    "    return result\n",
    "\n",
    "def computeClustering_1(datasetIndex):\n",
    "    dataset = DATASETS[datasetIndex][0]\n",
    "    true_labels = DATASETS[datasetIndex][1]\n",
    "    labels_names = DATASETS[datasetIndex][2]\n",
    "    \n",
    "    dataset = removeLabels(dataset, labels_names, 0) \n",
    "    fcm.setParams(fuzzy_param=1.5, membership_threshold=0.925)\n",
    "    labels, centers, mb = fcm_1.clusterize(dataset, labels_names)\n",
    "    return accuracy_score(labels, true_labels), len(centers)\n",
    "\n",
    "def computeClustering_2(datasetIndex):\n",
    "    dataset = DATASETS[datasetIndex][0]\n",
    "    true_labels = DATASETS[datasetIndex][1]\n",
    "    labels_names = DATASETS[datasetIndex][2]\n",
    "    dataset = removeLabels_2(dataset, labels_names, 0) \n",
    "    fcm.setParams(fuzzy_param=1.5, membership_threshold=0.925)\n",
    "    new_data, labels, centers, mb = fcm_2.clusterize(dataset, labels_names)\n",
    "    return accuracy_score(labels, [row[-1] for row in new_data]), len(centers)\n",
    "\n",
    "\n",
    "datasets = np.array(range(len(DATASETS)))\n",
    "result_fcm_1 = np.array([computeClustering_1(x) for x in datasets])\n",
    "nb_cluster_fcm_1 = result_fcm_1[:, -1]\n",
    "accurencies_fcm_1 = result_fcm_1[:, 0]\n",
    "result_fcm_2 = np.array([computeClustering_2(x) for x in datasets])\n",
    "nb_cluster_fcm_2 = result_fcm_2[:, -1]\n",
    "accurencies_fcm_2 = result_fcm_2[:, 0]\n",
    "nb_cluster_fcm_1.astype(int)\n",
    "nb_cluster_fcm_2.astype(int)\n",
    "\n",
    "print(nb_cluster_fcm_1)\n",
    "print(accurencies_fcm_1)\n",
    "\n",
    "print(nb_cluster_fcm_2)\n",
    "print(accurencies_fcm_2)\n",
    "\n",
    "fig, ax1 = plt.subplots()\n",
    "\n",
    "ax1.plot([\"0\", \"1\", \"2\", \"3\"], accurencies_fcm_1, lw=2, color=\"blue\")\n",
    "ax1.plot([\"0\", \"1\", \"2\", \"3\"], accurencies_fcm_2, lw=2, color=\"red\")\n",
    "ax1.set_ylabel(\"Accuracy\", fontsize=14)\n",
    "\n",
    "ax1.set_xlabel(r'Dataset id', fontsize=14)\n",
    "#ax1.set_title('Accuracy and clusters comparison between FI-FCM and S-FCM ', fontsize=14);\n"
   ]
  }
 ],
 "metadata": {
  "kernelspec": {
   "display_name": "Python 3",
   "language": "python",
   "name": "python3"
  }
 },
 "nbformat": 4,
 "nbformat_minor": 2
}
