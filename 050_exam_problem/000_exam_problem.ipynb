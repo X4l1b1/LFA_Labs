{
 "cells": [
  {
   "cell_type": "markdown",
   "metadata": {},
   "source": [
    "# Lab 05 - Exam problem\n",
    "\n",
    "Author: Gary Marigliano, based on the work of Hector Satizabal\n",
    "\n",
    "Date: 2018.03"
   ]
  },
  {
   "cell_type": "markdown",
   "metadata": {},
   "source": [
    "## Instructions:\n",
    "\n",
    "* Read this notebook\n",
    "* Do/Answer where **TODO student** is specified\n",
    "* The folder structure is like this:\n",
    "\n",
    "```\n",
    "fuzzy_systems\n",
    "├── core\n",
    "└── view\n",
    "```\n",
    "\n",
    "* `core` contains core classes like membership_functions, fuzzy_rules,...\n",
    "* `view` contains classes used to display what the core classes do.\n",
    "* Please keep this folder structure if you write additional classes.\n",
    "\n",
    "\n",
    "**TODO student** Read and explore the code provided both in this folder."
   ]
  },
  {
   "cell_type": "code",
   "execution_count": 1,
   "metadata": {},
   "outputs": [],
   "source": [
    " # change 'inline' to 'notebook' to enable 3D plots\n",
    "%matplotlib inline\n",
    "\n",
    "import numpy as np\n",
    "import matplotlib.pyplot as plt"
   ]
  },
  {
   "cell_type": "code",
   "execution_count": 2,
   "metadata": {},
   "outputs": [],
   "source": [
    "from fuzzy_systems.core.linguistic_variables.linguistic_variable import LinguisticVariable\n",
    "from fuzzy_systems.core.linguistic_variables.two_points_lv import TwoPointsPDLV\n",
    "from fuzzy_systems.core.linguistic_variables.three_points_lv import ThreePointsLV\n",
    "from fuzzy_systems.core.membership_functions.lin_piece_wise_mf import LinPWMF\n",
    "from fuzzy_systems.core.membership_functions.trap_mf import TrapMF\n",
    "from fuzzy_systems.core.membership_functions.singleton_mf import SingletonMF\n",
    "from fuzzy_systems.core.rules.fuzzy_rule import FuzzyRule, Antecedent, Consequent\n",
    "from fuzzy_systems.core.rules.default_fuzzy_rule import DefaultFuzzyRule\n",
    "from fuzzy_systems.core.fis.fis import FIS, OR_max, AND_min, MIN, COA_func\n",
    "from fuzzy_systems.core.fis.singleton_fis import SingletonFIS\n",
    "\n",
    "from fuzzy_systems.view.lv_viewer import LinguisticVariableViewer\n",
    "from fuzzy_systems.view.fis_viewer import FISViewer\n",
    "from fuzzy_systems.view.fis_surface import show_surface"
   ]
  },
  {
   "cell_type": "markdown",
   "metadata": {},
   "source": [
    "## Introduction\n",
    "\n",
    "In this notebook we will look at the exam problem. As a student you are an expert at planning which exam you must prepare first given a set of exams. For example, you know that you need to prepare the math exam a bit sooner than just 2 hours before it begins. But the same logic does not necessarily apply for all courses ;-)\n",
    "\n",
    "Your task is to design from scratch a FIS where you are the expert. Indeed, we will give you the variables and their range but you are going to create the linguistic variables, the fuzzy rules and therefore the FIS."
   ]
  },
  {
   "cell_type": "markdown",
   "metadata": {},
   "source": [
    "* Inputs variables\n",
    "  * **(D)ifficulty**: how hard the exam would be ?\n",
    "    * from 0 (easy) to 10 (hard)\n",
    "  * **(I)mportance**: how important the exam is ? Maybe you can ignore this exam because you already had good grades before. Or on the opposite, you absolutely need to nail this exam to pass the year.\n",
    "    * from 0 (yolo) to 10 (my student's life depends on it)\n",
    "  * **(R)emaining work**: You already studied a bit before so maybe there is no much work to do left. Or, on the opposite, you need to deep dive into the slides for the first time in your life.\n",
    "    * from 0 (just skim the slides) to 10 (learn everything from scratch)\n",
    "  * **(T)ime to exam**: When is the exam, tomorrow ? in 2 months ?\n",
    "    * from 0 (in days, so today) to 30 (in days, so in 1 month)\n",
    "    \n",
    "* Output variables\n",
    "  * **(P)riority**: Given the input variables above, what should be the priority of an exam ?\n",
    "    * from 0 (lowest priority, i.e. this exam will be the last you will start to revise) to 1 (highest priority, i.e. this exam will be the first you will start to revise)\n",
    "    "
   ]
  },
  {
   "cell_type": "markdown",
   "metadata": {},
   "source": [
    "## Step 1 - Create the FIS"
   ]
  },
  {
   "cell_type": "markdown",
   "metadata": {},
   "source": [
    "**TODO student**\n",
    "\n",
    "* Using the specification above (input and output variables names and ranges) create a FIS from scratch\n",
    "  * Create the linguistic variables you find relevant in terms of number of labels, name of the labels, shape of the MFs, ...\n",
    "  * Create the fuzzy rules you find relevent in terms of number of rules, number of antecedents/consequents, presence or absence of the default rule, presence or absence of NOT conditions... Note: you are not forced to use all the variables for each rule, you are free to build your FIS the way you want. The only constraint is to be able to **justify every choice you made**.\n",
    "  * Type of FIS \n",
    "* Justify your choices with a few words. **The justification is the main part of the evaluation so please be precise and complete**\n",
    "* Show your FIS using FISViewer\n"
   ]
  },
  {
   "cell_type": "markdown",
   "metadata": {},
   "source": [
    "## Step 2 - Do you trust your FIS ? aka Test the FIS"
   ]
  },
  {
   "cell_type": "markdown",
   "metadata": {},
   "source": [
    "Now that you have created your FIS it is time to test it against your personnal feelings.\n",
    "\n",
    "**TODO student**\n",
    "\n",
    "* Test your FIS on the following cases (the 5 courses below). Do the output priorities seems coherent ? If not edit your FIS to improve the outputs.\n",
    "  * Course 1: Difficulty=8, Importance=4, Remaining work=30, Time to exam=4\n",
    "  * Course 2: Difficulty=4, Importance=6, Remaining work=50, Time to exam=6\n",
    "  * Course 3: Difficulty=10, Importance=7, Remaining work=10, Time to exam=10\n",
    "  * Course 4: Difficulty=2, Importance=3, Remaining work=80, Time to exam=3\n",
    "  * Course 5: Difficulty=6, Importance=9, Remaining work=40, Time to exam=14\n",
    "* How the systems behave if the days pass but you have not progressed with your revision ? i.e. only the variable T(ime to exam) changes from t to t-1. How the priorities change? Does that seems coherent to you? Friendly reminder: maybe the function `show_surface()` can be useful.\n",
    "* Ask yourself additional questions (between 4-6) to ask to your FIS to test it. For example test the following assumption: \"The sooner the exam is the higher will the priority be\".\n",
    "* For each question justify your answers with plots and sentences.\n",
    "* Confront your FIS against your personnal feelings. For example, a math exam is more likely to be difficult than a communication exam. You could create several additional courses with a dummy context (like the 5 courses above). For example, let's imagine that Course 6 is a Java exam scheduled tomorrow and you are a beast in Java so Difficulty=2, Importance=8, Remaining work=10, Time to work=1.\n",
    "* Additional questions:\n",
    "  * How your FIS behave with extreme values ? e.g. difficulty, importance and remaining work set to maximum and time to exam set to mimimum ?\n",
    "  * Set N-2 variables to fixed values and plot using `show_surface()` the behaviour of 2 input variables. Comment the result with a few words. For example, do the input values correctly behave when their values change.\n",
    "  * Generally, can you indicate some cons or weaknesses a such FIS could have? Does your FIS (or any FIS modelling the exam problem) incorporates everything to fully answer the exam problem? Is there something you know your FIS cannot capture that might help to predict the priority?\n",
    "* **You may want to tune your FIS a couple of times in order to find a good FIS, so don't hesitate to go back to step 1**\n",
    "\n",
    "Note: you may want to reuse classes from previous labs (such as ThreePointsLV for example). If so, please make sure that you fixed these in relation to the labs feedbacks.\n",
    "\n",
    "Note: if there are odd behaviours, try to fix your FIS. If after several attempts to fix your FIS you found no way to fix it, then provide or guess some explanations/hypothesis.\n",
    "\n",
    "Note: you should not need to implement new classes/functions but if you do please justify it and make sure there are working properly."
   ]
  },
  {
   "cell_type": "markdown",
   "metadata": {},
   "source": [
    "## Conclusion"
   ]
  },
  {
   "cell_type": "markdown",
   "metadata": {},
   "source": [
    "This lab is less code-oriented but requires more (sort of) scientific thinking. Please show that you played and explored the behaviour with your FIS. Ask yourself many questions and confront your FIS against them. **Note that a minimal effort in doing so will result in a minimal grade.** You will mainly be evaluated on the justification and on your analysis. Remember you are the expert and this means you need to approve or disapprove the FIS you created."
   ]
  },
  {
   "cell_type": "markdown",
   "metadata": {},
   "source": [
    "-----------------\n",
    "\n",
    "# Exercice - please answer below"
   ]
  },
  {
   "cell_type": "markdown",
   "metadata": {},
   "source": [
    "**Step 1**: \n",
    "We first start to implement a simple mamdani FIS to have a better representation of the outputs. For simplication we used ThreePointsLV to represent the linguistic variables. We used a default rule to prevent cases that we didnt think of. By default the priority is low, we will then focus on all the cases where the priority must be high. We used the not operator to reduct the number of rules.\n",
    "We constructed our fuzzy rules as follow : \n",
    "- First of all, if importance is high, the priority will alway be high\n",
    "- If the difficulty is high then if the importance is not low, the priority will be high\n",
    "- If the remaining work is high then if time to exam is low, the priority will be high\n",
    "- Finally if the time to exam is low, the difficulty is not low and the remaining work is not not low, the priority will be high\n",
    "\n",
    "The resulting FIS is represented below : "
   ]
  },
  {
   "cell_type": "code",
   "execution_count": 3,
   "metadata": {
    "scrolled": false
   },
   "outputs": [
    {
     "ename": "NameError",
     "evalue": "name 'ThreePointsLV' is not defined",
     "output_type": "error",
     "traceback": [
      "\u001b[0;31m---------------------------------------------------------------------------\u001b[0m",
      "\u001b[0;31mNameError\u001b[0m                                 Traceback (most recent call last)",
      "\u001b[0;32m<ipython-input-3-5ad5d7a63e4e>\u001b[0m in \u001b[0;36m<module>\u001b[0;34m()\u001b[0m\n\u001b[0;32m----> 1\u001b[0;31m \u001b[0mdifficulty\u001b[0m \u001b[0;34m=\u001b[0m \u001b[0mTwoPointsPDLV\u001b[0m\u001b[0;34m(\u001b[0m\u001b[0mname\u001b[0m\u001b[0;34m=\u001b[0m\u001b[0;34m'Difficulty'\u001b[0m\u001b[0;34m,\u001b[0m \u001b[0mp\u001b[0m\u001b[0;34m=\u001b[0m\u001b[0;36m0\u001b[0m\u001b[0;34m,\u001b[0m \u001b[0md\u001b[0m\u001b[0;34m=\u001b[0m\u001b[0;36m10\u001b[0m\u001b[0;34m)\u001b[0m\u001b[0;34m\u001b[0m\u001b[0m\n\u001b[0m\u001b[1;32m      2\u001b[0m \u001b[0;34m\u001b[0m\u001b[0m\n\u001b[1;32m      3\u001b[0m \u001b[0mimportance\u001b[0m \u001b[0;34m=\u001b[0m \u001b[0mTwoPointsPDLV\u001b[0m\u001b[0;34m(\u001b[0m\u001b[0mname\u001b[0m\u001b[0;34m=\u001b[0m\u001b[0;34m'Importance'\u001b[0m\u001b[0;34m,\u001b[0m \u001b[0mp\u001b[0m\u001b[0;34m=\u001b[0m\u001b[0;36m0\u001b[0m\u001b[0;34m,\u001b[0m \u001b[0md\u001b[0m\u001b[0;34m=\u001b[0m\u001b[0;36m10\u001b[0m\u001b[0;34m)\u001b[0m\u001b[0;34m\u001b[0m\u001b[0m\n\u001b[1;32m      4\u001b[0m \u001b[0;34m\u001b[0m\u001b[0m\n\u001b[1;32m      5\u001b[0m remaining_work = LinguisticVariable(name=\"Remaining Work\", ling_values_dict={\n",
      "\u001b[0;32m~/Documents/HEIG-VD/3eme Annee - 2017-2018/2eme semestre/Logique Flou et Applications/LFA_Labs/050_exam_problem/fuzzy_systems/core/linguistic_variables/two_points_lv.py\u001b[0m in \u001b[0;36m__init__\u001b[0;34m(self, name, p, d)\u001b[0m\n\u001b[1;32m     29\u001b[0m     \u001b[0;32mdef\u001b[0m \u001b[0m__init__\u001b[0m\u001b[0;34m(\u001b[0m\u001b[0mself\u001b[0m\u001b[0;34m,\u001b[0m \u001b[0mname\u001b[0m\u001b[0;34m,\u001b[0m \u001b[0mp\u001b[0m\u001b[0;34m,\u001b[0m \u001b[0md\u001b[0m\u001b[0;34m)\u001b[0m\u001b[0;34m:\u001b[0m\u001b[0;34m\u001b[0m\u001b[0m\n\u001b[1;32m     30\u001b[0m         \u001b[0;32massert\u001b[0m \u001b[0mp\u001b[0m \u001b[0;34m<=\u001b[0m \u001b[0md\u001b[0m\u001b[0;34m,\u001b[0m \u001b[0;34m\"points must be increasing values\"\u001b[0m\u001b[0;34m\u001b[0m\u001b[0m\n\u001b[0;32m---> 31\u001b[0;31m         super(ThreePointsLV, self).__init__(name, ling_values_dict={\n\u001b[0m\u001b[1;32m     32\u001b[0m             \u001b[0;34m\"low\"\u001b[0m\u001b[0;34m:\u001b[0m \u001b[0mLinPWMF\u001b[0m\u001b[0;34m(\u001b[0m\u001b[0;34m[\u001b[0m\u001b[0mp\u001b[0m\u001b[0;34m,\u001b[0m \u001b[0;36m1\u001b[0m\u001b[0;34m]\u001b[0m\u001b[0;34m,\u001b[0m \u001b[0;34m[\u001b[0m\u001b[0md\u001b[0m\u001b[0;34m,\u001b[0m \u001b[0;36m0\u001b[0m\u001b[0;34m]\u001b[0m\u001b[0;34m)\u001b[0m\u001b[0;34m,\u001b[0m\u001b[0;34m\u001b[0m\u001b[0m\n\u001b[1;32m     33\u001b[0m             \u001b[0;34m\"high\"\u001b[0m\u001b[0;34m:\u001b[0m \u001b[0mLinPWMF\u001b[0m\u001b[0;34m(\u001b[0m\u001b[0;34m[\u001b[0m\u001b[0mp\u001b[0m\u001b[0;34m,\u001b[0m \u001b[0;36m0\u001b[0m\u001b[0;34m]\u001b[0m\u001b[0;34m,\u001b[0m \u001b[0;34m[\u001b[0m\u001b[0md\u001b[0m\u001b[0;34m,\u001b[0m \u001b[0;36m1\u001b[0m\u001b[0;34m]\u001b[0m\u001b[0;34m)\u001b[0m\u001b[0;34m\u001b[0m\u001b[0m\n",
      "\u001b[0;31mNameError\u001b[0m: name 'ThreePointsLV' is not defined"
     ]
    }
   ],
   "source": [
    "difficulty = TwoPointsPDLV(name='Difficulty', p=0, d=10)\n",
    "\n",
    "importance = TwoPointsPDLV(name='Importance', p=0, d=10)\n",
    "\n",
    "remaining_work = LinguisticVariable(name=\"Remaining Work\", ling_values_dict={\n",
    "        \"low\": LinPWMF([1, 1], [30, 0]),\n",
    "        \"medium\": LinPWMF([1, 0], [30, 1], [60, 1], [95, 0]),\n",
    "        \"high\": LinPWMF([60, 0], [95, 1])\n",
    "    })\n",
    "\n",
    "time_to_exam = LinguisticVariable(name=\"Time To Exam\", ling_values_dict={\n",
    "        \"low\": LinPWMF([1, 1], [5, 0]),\n",
    "        \"medium\": LinPWMF([1, 0], [5, 1], [16, 1], [25, 0]),\n",
    "        \"high\": LinPWMF([16, 0], [25, 1])\n",
    "    })\n",
    "\n",
    "#priority = ThreePointsLV(name='Priority', p1=0, p2=0.7, p3=1)\n",
    "priority = LinguisticVariable(name=\"Priority\", ling_values_dict={\n",
    "        \"low\": LinPWMF([0, 1], [0.3, 0]),\n",
    "        \"medium\": LinPWMF([0, 0], [0.3, 1], [0.7, 1], [1, 0]),\n",
    "        \"high\": LinPWMF([0.7, 0], [1, 1])\n",
    "    })\n",
    "MEAN = (np.mean, \"MEAN\")\n",
    "#lvview = LinguisticVariableViewer(priority)\n",
    "#lvview.show()\n",
    "\n",
    "default_rule = DefaultFuzzyRule( cons=[Consequent(priority, 'medium')], impl_func=MIN)\n",
    "\n",
    "exams_rules = [\n",
    "\n",
    "    # If there's no work to do, priority is low\n",
    "    FuzzyRule(ant_act_func=AND_min,\n",
    "              ants=[Antecedent(remaining_work, 'low')],\n",
    "              cons=[Consequent(priority, 'low')], impl_func=MIN),\n",
    "    \n",
    "    # If we have a lot of time, priority is low\n",
    "    FuzzyRule(ant_act_func=AND_min,\n",
    "              ants=[Antecedent(time_to_exam, 'high')],\n",
    "              cons=[Consequent(priority, 'low')], impl_func=MIN),\n",
    "    \n",
    "    # If the exam is hard and important, priority is high\n",
    "    FuzzyRule(ant_act_func=MEAN,\n",
    "              ants=[Antecedent(difficulty, 'high'),\n",
    "                    Antecedent(importance, 'high')],\n",
    "              cons=[Consequent(priority, 'high')], impl_func=MIN),\n",
    " \n",
    "    # If the exam is easy and not important, priority is low\n",
    "    FuzzyRule(ant_act_func=MEAN,\n",
    "              ants=[Antecedent(difficulty, 'low'),\n",
    "                    Antecedent(importance, 'low')],\n",
    "              cons=[Consequent(priority, 'low')], impl_func=MIN),\n",
    "    \n",
    "    FuzzyRule(ant_act_func=AND_min,\n",
    "              ants=[Antecedent(remaining_work, 'low', is_not=True),\n",
    "                    Antecedent(difficulty, 'high'),\n",
    "                    Antecedent(time_to_exam, 'low', is_not=True)],\n",
    "              cons=[Consequent(priority, 'high')], impl_func=MIN),\n",
    "    \n",
    "    FuzzyRule(ant_act_func=AND_min,\n",
    "              ants=[Antecedent(remaining_work, 'high', is_not=True),\n",
    "                    Antecedent(difficulty, 'high'),\n",
    "                    Antecedent(time_to_exam, 'low', is_not=True)],\n",
    "              cons=[Consequent(priority, 'medium')], impl_func=MIN),\n",
    "\n",
    "]\n",
    "\n",
    "fis = FIS(rules=exams_rules, aggr_func=np.max,\n",
    "          defuzz_func=COA_func, default_rule=default_rule)\n",
    "\n",
    "input_values = {'Difficulty': 0,'Importance': 0, 'Remaining Work': 0, 'Time To Exam': 30}\n",
    "fis.predict(input_values)\n",
    "fisv = FISViewer(fis)\n",
    "fisv.show()\n",
    "#input_values = {'Difficulty': 4, 'Importance': 6, 'Remaining Work': 50, 'Time To Exam': 6}\n",
    "#fis.predict(input_values)\n",
    "#fisv = FISViewer(fis)\n",
    "#fisv.show()\n",
    "#input_values = {'Difficulty': 10, 'Importance': 7, 'Remaining Work': 10, 'Time To Exam': 10}\n",
    "#fis.predict(input_values)\n",
    "#fisv = FISViewer(fis)\n",
    "#fisv.show()\n",
    "#input_values = {'Difficulty': 2, 'Importance': 3, 'Remaining Work': 80, 'Time To Exam': 3}\n",
    "#fis.predict(input_values)\n",
    "#fisv = FISViewer(fis)\n",
    "#fisv.show()\n",
    "#input_values = {'Difficulty': 6, 'Importance': 9, 'Remaining Work': 40, 'Time To Exam': 14}\n",
    "#fis.predict(input_values)\n",
    "#fisv = FISViewer(fis)\n",
    "#fisv.show()\n"
   ]
  },
  {
   "cell_type": "code",
   "execution_count": null,
   "metadata": {},
   "outputs": [],
   "source": [
    "input_values = {'Difficulty': 8,'Importance': 4, 'Remaining Work': 30, 'Time To Exam': 4}\n",
    "print(fis.predict(input_values))\n",
    "input_values = {'Difficulty': 4,'Importance': 6, 'Remaining Work': 50, 'Time To Exam': 6}\n",
    "print(fis.predict(input_values))\n",
    "input_values = {'Difficulty': 10,'Importance': 7, 'Remaining Work': 10, 'Time To Exam': 10}\n",
    "print(fis.predict(input_values))\n",
    "input_values = {'Difficulty': 2,'Importance': 3, 'Remaining Work': 80, 'Time To Exam': 3}\n",
    "print(fis.predict(input_values))\n",
    "input_values = {'Difficulty': 6,'Importance': 9, 'Remaining Work': 40, 'Time To Exam': 14}\n",
    "print(fis.predict(input_values))"
   ]
  },
  {
   "cell_type": "markdown",
   "metadata": {},
   "source": [
    "**Step 2**\n",
    "Now that we have created our FIS it is time to test it against our personnal feelings.\n",
    "\n",
    "* Test your FIS on the following cases (the 5 courses below). Do the output priorities seems coherent ? If not edit your FIS to improve the outputs.\n",
    "  * Course 1: Difficulty=8, Importance=4, Remaining work=30, Time to exam=4   ==>> Priority = 0.575\n",
    "  * Course 2: Difficulty=4, Importance=6, Remaining work=50, Time to exam=6   ==>> Priority = 0.500\n",
    "  * Course 3: Difficulty=10, Importance=7, Remaining work=10, Time to exam=10 ==>> Priority = 0.548\n",
    "  * Course 4: Difficulty=2, Importance=3, Remaining work=80, Time to exam=3   ==>> Priority = 0.247\n",
    "  * Course 5: Difficulty=6, Importance=9, Remaining work=40, Time to exam=14  ==>> Priority = 0.662\n",
    "  \n",
    " > The outputs seems to be coherent.\n",
    " \n",
    "* How the systems behave if the days pass but you have not progressed with your revision ? i.e. only the variable T(ime to exam) changes from t to t-1. How the priorities change? Does that seems coherent to you? Friendly reminder: maybe the function `show_surface()` can be useful.\n",
    " > In order to analyse the evolution of the priority with the time remaining before the exam, we simply created a plot representing the time to exam vs the priority, when the other parameters stay constants(D=8, I=5, R=50).\n",
    " \n"
   ]
  },
  {
   "cell_type": "code",
   "execution_count": null,
   "metadata": {},
   "outputs": [],
   "source": [
    "times_to_exam = np.array([30, 25, 20, 15, 10, 5, 0])\n",
    "\n",
    "def f(x):\n",
    "    return fis.predict({'Difficulty': 8, \n",
    "                          'Importance': 7, \n",
    "                          'Remaining Work': 50, \n",
    "                          'Time To Exam': x})[\"Priority\"]\n",
    "\n",
    "f = np.vectorize(f, otypes=[np.float])\n",
    "priorities = f(times_to_exam)\n",
    "\n",
    "plt.plot(times_to_exam, priorities)\n",
    "plt.ylabel('Priority')\n",
    "plt.xlabel('Time To Exam')\n",
    "plt.show()"
   ]
  },
  {
   "cell_type": "markdown",
   "metadata": {},
   "source": [
    ">The evolution of the priority variable seems to be coherent. We consider any exam beyond two weeks in the future is not a priority. Below that bound, depending on the other factors, it may become one.\n",
    "> All in all, we kind of use the time_to_exam antecedent like that : If it is NOT 'low' then this is NOT an important factor, when it IS 'low', then it should have an increasing impact on the priority of the exam."
   ]
  },
  {
   "cell_type": "markdown",
   "metadata": {},
   "source": [
    "* Ask yourself additional questions (between 4-6) to ask to your FIS to test it. For example test the following assumption: \"The sooner the exam is the higher will the priority be\". For each question justify your answers with plots and sentences.\n",
    "> (Question 1) : The more important the exam is, the highter the priority will be \n",
    "\n",
    "    > We can see that with an increased 'difficulty', the priority increases more and more (relatively to the factors value). We consider this factor the same way we consider the 'difficulty' factor. All values of this factor should have an impact as it is always relevant (high or low).\n",
    "    \n",
    "    Note that the rules using only the 'difficulty' and the 'importance' factor use the MEAN operator. This is a choice we made to express the fact that a very important but very easy exam should require the same amount of preparation as a less important but very hard exam. In our mind, those two factors clearly should always BOTH be taken into account, hence the operator choice (an AND_min or an OR_max would always discard one of those values)"
   ]
  },
  {
   "cell_type": "code",
   "execution_count": null,
   "metadata": {},
   "outputs": [],
   "source": [
    "importances = np.array([0, 1, 2, 3, 4, 5, 6, 7, 8, 9, 10])\n",
    "\n",
    "def f(x):\n",
    "    return fis.predict({'Difficulty': 5, \n",
    "                          'Importance': x, \n",
    "                          'Remaining Work': 50, \n",
    "                          'Time To Exam': 15})[\"Priority\"]\n",
    "\n",
    "f = np.vectorize(f, otypes=[np.float])\n",
    "priorities = f(importances)\n",
    "\n",
    "plt.plot(importances, priorities)\n",
    "plt.ylabel('Priority')\n",
    "plt.xlabel('Importance')\n",
    "plt.show()"
   ]
  },
  {
   "cell_type": "markdown",
   "metadata": {},
   "source": [
    "> (Question 2) : The more work I have to procude for the exam, the highter the priority will be \n",
    "\n",
    "    > We can see that the impact of the 'remaining_work' factor increases quickly and then hits an upper bound. This is clearly intentionnal as we consider the following to be true :\n",
    "        - if the 'remaining_work' is 'low' then it SHOULD have an impact on the priority (decrease it)\n",
    "        - if the 'remaining_work' is NOT 'low', then it should have a LIMITED impact, as the other factors should be taken into account (if it is not hard, then even with a lot of work, we could do it quickly, hence the priority should not be too high)"
   ]
  },
  {
   "cell_type": "code",
   "execution_count": null,
   "metadata": {},
   "outputs": [],
   "source": [
    "remainings_work = np.array([0, 10, 20, 30, 40, 50, 60, 70, 80, 90, 100])\n",
    "\n",
    "def f(x):\n",
    "    return fis.predict({'Difficulty': 7, \n",
    "                          'Importance': 8, \n",
    "                          'Remaining Work': x, \n",
    "                          'Time To Exam': 15})[\"Priority\"]\n",
    "\n",
    "f = np.vectorize(f, otypes=[np.float])\n",
    "priorities = f(remainings_work)\n",
    "\n",
    "plt.plot(remainings_work, priorities)\n",
    "plt.ylabel('Priority')\n",
    "plt.xlabel('Remaining Work')\n",
    "plt.show()"
   ]
  },
  {
   "cell_type": "markdown",
   "metadata": {},
   "source": [
    "> (Question 3) : The more difficult the exam is, the highter the priority will be \n",
    "\n",
    "    > We can see that with an increased 'difficulty', the priority increases more and more (relatively to the factors value). This is clearly intentionnal as we consider that the difficulty of the exam shold always have an impact on the priority."
   ]
  },
  {
   "cell_type": "code",
   "execution_count": null,
   "metadata": {},
   "outputs": [],
   "source": [
    "difficulties = np.array([0, 1, 2, 3, 4, 5, 6, 7, 8, 9, 10])\n",
    "\n",
    "def f(x):\n",
    "    return fis.predict({'Difficulty': x, \n",
    "                          'Importance': 5, \n",
    "                          'Remaining Work': 50, \n",
    "                          'Time To Exam': 15})[\"Priority\"]\n",
    "\n",
    "f = np.vectorize(f, otypes=[np.float])\n",
    "priorities = f(difficulties)\n",
    "\n",
    "plt.plot(difficulties, priorities)\n",
    "plt.ylabel('Priority')\n",
    "plt.xlabel('Difficulty')\n",
    "plt.show()"
   ]
  },
  {
   "cell_type": "markdown",
   "metadata": {},
   "source": [
    "> (Question 4) : The more distant in time the exam is, the lower the priority will be \n",
    "> We can observe that the priority behave normally and decrease when the number of days remaining before the exam increase.\n",
    "   "
   ]
  },
  {
   "cell_type": "code",
   "execution_count": null,
   "metadata": {},
   "outputs": [],
   "source": [
    "times_to_exam = np.array([30, 25, 20, 15, 10, 5, 0])\n",
    "\n",
    "def f(x):\n",
    "    return fis.predict({'Difficulty': 5, \n",
    "                          'Importance': 8, \n",
    "                          'Remaining Work': 50, \n",
    "                          'Time To Exam': x})[\"Priority\"]\n",
    "\n",
    "f = np.vectorize(f, otypes=[np.float])\n",
    "priorities = f(times_to_exam)\n",
    "\n",
    "plt.plot(times_to_exam, priorities)\n",
    "plt.ylabel('Priority')\n",
    "plt.xlabel('Time To Exam')\n",
    "plt.show()"
   ]
  },
  {
   "cell_type": "code",
   "execution_count": null,
   "metadata": {},
   "outputs": [],
   "source": [
    "input_values = {'Difficulty': 8,'Importance': 10, 'Remaining Work': 99, 'Time To Exam': 30}\n",
    "print(fis.predict(input_values))\n",
    "input_values = {'Difficulty': 8,'Importance': 9, 'Remaining Work': 90, 'Time To Exam': 15}\n",
    "print(fis.predict(input_values))\n",
    "input_values = {'Difficulty': 9,'Importance': 7, 'Remaining Work': 45, 'Time To Exam': 10}\n",
    "print(fis.predict(input_values))\n",
    "input_values = {'Difficulty': 3,'Importance': 3, 'Remaining Work': 60, 'Time To Exam': 10}\n",
    "print(fis.predict(input_values))\n",
    "input_values = {'Difficulty': 1,'Importance': 5, 'Remaining Work': 10, 'Time To Exam': 7}\n",
    "print(fis.predict(input_values))"
   ]
  },
  {
   "cell_type": "markdown",
   "metadata": {},
   "source": [
    "* Confront your FIS against your personnal feelings. For example, a math exam is more likely to be difficult than a communication exam. You could create several additional courses with a dummy context (like the 5 courses above). For example, let's imagine that Course 6 is a Java exam scheduled tomorrow and you are a beast in Java so Difficulty=2, Importance=8, Remaining work=10, Time to work=1.\n",
    "\n",
    "  * Course 1, LFA : Difficulty=8, Importance=10, Remaining work=99, Time to exam=30   ==>> Priority = 0.500\n",
    "  * Course 2, MLG : Difficulty=8, Importance=9, Remaining work=90, Time to exam=15   ==>> Priority = 0.907\n",
    "  * Course 3, SCALA : Difficulty=9, Importance=7, Remaining work=45, Time to exam=10 ==>> Priority = 0.804\n",
    "  * Course 4, VTK : Difficulty=3, Importance=3, Remaining work=60, Time to exam=10   ==>> Priority = 0.338\n",
    "  * Course 5, CLD : Difficulty=1, Importance=5, Remaining work=10, Time to exam=7  ==>> Priority = 0.399\n"
   ]
  },
  {
   "cell_type": "code",
   "execution_count": null,
   "metadata": {},
   "outputs": [],
   "source": [
    "input_values = {'Difficulty': 10,'Importance': 10, 'Remaining Work': 100, 'Time To Exam': 0}\n",
    "print(fis.predict(input_values))\n",
    "input_values = {'Difficulty': 0,'Importance': 0, 'Remaining Work': 0, 'Time To Exam': 30}\n",
    "print(fis.predict(input_values))"
   ]
  },
  {
   "cell_type": "markdown",
   "metadata": {},
   "source": [
    "* Additional questions:\n",
    "  * How your FIS behave with extreme values ? e.g. difficulty, importance and remaining work set to maximum and time to exam set to mimimum ?\n",
    "   > We tested the FIS with the following extremes values : \n",
    "       * Test 1 : Difficulty=10, Importance=10, Remaining work=100, Time to exam=0   ==>> Priority = 0.907\n",
    "       * Test 2 : Difficulty=0, Importance=0, Remaining work=0, Time to exam=10   ==>> Priority = 0.093\n",
    "   > We can see that the priorities seems to be well distributed between the range 0-1, however, the minimum and maximum priority are 0.093 and 0.907, it could be easily explain by the default rule and the COA_func for the result aggregattion.\n",
    "  * Set N-2 variables to fixed values and plot using `show_surface()` the behaviour of 2 input variables. Comment the result with a few words. For example, do the input values correctly behave when their values change.\n",
    "  "
   ]
  },
  {
   "cell_type": "code",
   "execution_count": null,
   "metadata": {},
   "outputs": [],
   "source": [
    "other_labels = {\"Time To Exam\": 1, \"Remaining Work\": 100}\n",
    "show_surface(fis, title=\"Exam Problem Mamdani\",\n",
    "                  x_label=\"Difficulty\", y_label=\"Importance\", z_label=\"Priority\",\n",
    "                  n_pts=15, x_range=(0, 10), y_range=(0, 10), z_range=(0, 1),\n",
    "                  other_labels=other_labels)"
   ]
  },
  {
   "cell_type": "markdown",
   "metadata": {},
   "source": [
    "> The output values seems to correctly behave when the inputs values changes, when they are at there minimums the priority is at his minimum too, and respectively for there maximums"
   ]
  },
  {
   "cell_type": "markdown",
   "metadata": {},
   "source": [
    "* Generally, can you indicate some cons or weaknesses a such FIS could have? Does your FIS (or any FIS modelling the exam problem) incorporates everything to fully answer the exam problem? Is there something you know your FIS cannot capture that might help to predict the priority?\n",
    "      > cons: The bounds of the priority are not fully respected (0.1 - 0.9), the rules could be more specific\n",
    "  \n",
    "      > pros: We can considere that the FIS is close enought to the reality, it could be a good tool to prioritize the exam preparations for a student.\n",
    "  \n",
    "      > No the FIS do not incorporate everything to fully answer the exam problem, it is very difficult to represent all the possibilities of the real life, so we try to approach a good result. For example we could add more rules, or more LV, like 'Do we have an exam from last year to study?' and so on.\n",
    "\n",
    "Note: you may want to reuse classes from previous labs (such as ThreePointsLV for example). If so, please make sure that you fixed these in relation to the labs feedbacks.\n",
    "\n",
    "Note: if there are odd behaviours, try to fix your FIS. If after several attempts to fix your FIS you found no way to fix it, then provide or guess some explanations/hypothesis.\n",
    "\n",
    "Note: you should not need to implement new classes/functions but if you do please justify it and make sure there are working properly."
   ]
  },
  {
   "cell_type": "markdown",
   "metadata": {},
   "source": [
    "### To submit\n",
    "\n",
    "* Please make a zip called `lfa_labXX_YY.zip` where `XX` is the lab number and `YY` is your familly name. For example: `lfa_lab02_smith.zip`. \n",
    "* The mail's subject is `[LFA] rendu labXX` where `XX` is the lab number\n",
    "\n",
    "The zip must contain all _needed_ the files to run this notebook. That is, don't send your virtualenv (only the requirements.txt). **If any additional steps are required to run your notebook(s)/code, please add a README.md where you indicate all the needed steps to reproduce your work.**\n",
    "\n",
    "Note: Your notebooks must run completely even after the Jupyter kernel has been restarted. To ensure it will be the case when your lab will be reviewed, please select in the top menu \"Kernel -> Restart and Run all\" and check that the output of each cell is the desired output you want to submit."
   ]
  }
 ],
 "metadata": {
  "kernelspec": {
   "display_name": "Python 3",
   "language": "python",
   "name": "python3"
  },
  "language_info": {
   "codemirror_mode": {
    "name": "ipython",
    "version": 3
   },
   "file_extension": ".py",
   "mimetype": "text/x-python",
   "name": "python",
   "nbconvert_exporter": "python",
   "pygments_lexer": "ipython3",
   "version": "3.6.4"
  }
 },
 "nbformat": 4,
 "nbformat_minor": 1
}
