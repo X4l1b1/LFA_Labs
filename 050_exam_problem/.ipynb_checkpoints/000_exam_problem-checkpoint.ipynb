{
 "cells": [
  {
   "cell_type": "markdown",
   "metadata": {},
   "source": [
    "# Lab 05 - Exam problem\n",
    "\n",
    "Author: Gary Marigliano, based on the work of Hector Satizabal\n",
    "\n",
    "Date: 2018.03"
   ]
  },
  {
   "cell_type": "markdown",
   "metadata": {},
   "source": [
    "## Instructions:\n",
    "\n",
    "* Read this notebook\n",
    "* Do/Answer where **TODO student** is specified\n",
    "* The folder structure is like this:\n",
    "\n",
    "```\n",
    "fuzzy_systems\n",
    "├── core\n",
    "└── view\n",
    "```\n",
    "\n",
    "* `core` contains core classes like membership_functions, fuzzy_rules,...\n",
    "* `view` contains classes used to display what the core classes do.\n",
    "* Please keep this folder structure if you write additional classes.\n",
    "\n",
    "\n",
    "**TODO student** Read and explore the code provided both in this folder."
   ]
  },
  {
   "cell_type": "code",
   "execution_count": 1,
   "metadata": {},
   "outputs": [],
   "source": [
    " # change 'inline' to 'notebook' to enable 3D plots\n",
    "%matplotlib inline\n",
    "\n",
    "import numpy as np\n",
    "import matplotlib.pyplot as plt"
   ]
  },
  {
   "cell_type": "code",
   "execution_count": 2,
   "metadata": {},
   "outputs": [],
   "source": [
    "from fuzzy_systems.core.linguistic_variables.linguistic_variable import LinguisticVariable\n",
    "from fuzzy_systems.core.membership_functions.lin_piece_wise_mf import LinPWMF\n",
    "from fuzzy_systems.core.membership_functions.trap_mf import TrapMF\n",
    "from fuzzy_systems.core.membership_functions.singleton_mf import SingletonMF\n",
    "from fuzzy_systems.core.rules.fuzzy_rule import FuzzyRule, Antecedent, Consequent\n",
    "from fuzzy_systems.core.rules.default_fuzzy_rule import DefaultFuzzyRule\n",
    "from fuzzy_systems.core.fis.fis import FIS, OR_max, AND_min, MIN, COA_func\n",
    "from fuzzy_systems.core.fis.singleton_fis import SingletonFIS\n",
    "\n",
    "from fuzzy_systems.view.lv_viewer import LinguisticVariableViewer\n",
    "from fuzzy_systems.view.fis_viewer import FISViewer\n",
    "from fuzzy_systems.view.fis_surface import show_surface"
   ]
  },
  {
   "cell_type": "markdown",
   "metadata": {},
   "source": [
    "## Introduction\n",
    "\n",
    "In this notebook we will look at the exam problem. As a student you are an expert at planning which exam you must prepare first given a set of exams. For example, you know that you need to prepare the math exam a bit sooner than just 2 hours before it begins. But the same logic does not necessarily apply for all courses ;-)\n",
    "\n",
    "Your task is to design from scratch a FIS where you are the expert. Indeed, we will give you the variables and their range but you are going to create the linguistic variables, the fuzzy rules and therefore the FIS."
   ]
  },
  {
   "cell_type": "markdown",
   "metadata": {},
   "source": [
    "* Inputs variables\n",
    "  * **(D)ifficulty**: how hard the exam would be ?\n",
    "    * from 0 (easy) to 10 (hard)\n",
    "  * **(I)mportance**: how important the exam is ? Maybe you can ignore this exam because you already had good grades before. Or on the opposite, you absolutely need to nail this exam to pass the year.\n",
    "    * from 0 (yolo) to 10 (my student's life depends on it)\n",
    "  * **(R)emaining work**: You already studied a bit before so maybe there is no much work to do left. Or, on the opposite, you need to deep dive into the slides for the first time in your life.\n",
    "    * from 0 (just skim the slides) to 10 (learn everything from scratch)\n",
    "  * **(T)ime to exam**: When is the exam, tomorrow ? in 2 months ?\n",
    "    * from 0 (in days, so today) to 30 (in days, so in 1 month)\n",
    "    \n",
    "* Output variables\n",
    "  * **(P)riority**: Given the input variables above, what should be the priority of an exam ?\n",
    "    * from 0 (lowest priority, i.e. this exam will be the last you will start to revise) to 1 (highest priority, i.e. this exam will be the first you will start to revise)\n",
    "    "
   ]
  },
  {
   "cell_type": "markdown",
   "metadata": {},
   "source": [
    "## Step 1 - Create the FIS"
   ]
  },
  {
   "cell_type": "markdown",
   "metadata": {},
   "source": [
    "**TODO student**\n",
    "\n",
    "* Using the specification above (input and output variables names and ranges) create a FIS from scratch\n",
    "  * Create the linguistic variables you find relevant in terms of number of labels, name of the labels, shape of the MFs, ...\n",
    "  * Create the fuzzy rules you find relevent in terms of number of rules, number of antecedents/consequents, presence or absence of the default rule, presence or absence of NOT conditions... Note: you are not forced to use all the variables for each rule, you are free to build your FIS the way you want. The only constraint is to be able to **justify every choice you made**.\n",
    "  * Type of FIS \n",
    "* Justify your choices with a few words. **The justification is the main part of the evaluation so please be precise and complete**\n",
    "* Show your FIS using FISViewer\n"
   ]
  },
  {
   "cell_type": "markdown",
   "metadata": {},
   "source": [
    "## Step 2 - Do you trust your FIS ? aka Test the FIS"
   ]
  },
  {
   "cell_type": "markdown",
   "metadata": {},
   "source": [
    "Now that you have created your FIS it is time to test it against your personnal feelings.\n",
    "\n",
    "**TODO student**\n",
    "\n",
    "* Test your FIS on the following cases (the 5 courses below). Do the output priorities seems coherent ? If not edit your FIS to improve the outputs.\n",
    "  * Course 1: Difficulty=8, Importance=4, Remaining work=30, Time to exam=4\n",
    "  * Course 2: Difficulty=4, Importance=6, Remaining work=50, Time to exam=6\n",
    "  * Course 3: Difficulty=10, Importance=7, Remaining work=10, Time to exam=10\n",
    "  * Course 4: Difficulty=2, Importance=3, Remaining work=80, Time to exam=3\n",
    "  * Course 5: Difficulty=6, Importance=9, Remaining work=40, Time to exam=14\n",
    "* How the systems behave if the days pass but you have not progressed with your revision ? i.e. only the variable T(ime to exam) changes from t to t-1. How the priorities change? Does that seems coherent to you? Friendly reminder: maybe the function `show_surface()` can be useful.\n",
    "* Ask yourself additional questions (between 4-6) to ask to your FIS to test it. For example test the following assumption: \"The sooner the exam is the higher will the priority be\".\n",
    "* For each question justify your answers with plots and sentences.\n",
    "* Confront your FIS against your personnal feelings. For example, a math exam is more likely to be difficult than a communication exam. You could create several additional courses with a dummy context (like the 5 courses above). For example, let's imagine that Course 6 is a Java exam scheduled tomorrow and you are a beast in Java so Difficulty=2, Importance=8, Remaining work=10, Time to work=1.\n",
    "* Additional questions:\n",
    "  * How your FIS behave with extreme values ? e.g. difficulty, importance and remaining work set to maximum and time to exam set to mimimum ?\n",
    "  * Set N-2 variables to fixed values and plot using `show_surface()` the behaviour of 2 input variables. Comment the result with a few words. For example, do the input values correctly behave when their values change.\n",
    "  * Generally, can you indicate some cons or weaknesses a such FIS could have? Does your FIS (or any FIS modelling the exam problem) incorporates everything to fully answer the exam problem? Is there something you know your FIS cannot capture that might help to predict the priority?\n",
    "* **You may want to tune your FIS a couple of times in order to find a good FIS, so don't hesitate to go back to step 1**\n",
    "\n",
    "Note: you may want to reuse classes from previous labs (such as ThreePointsLV for example). If so, please make sure that you fixed these in relation to the labs feedbacks.\n",
    "\n",
    "Note: if there are odd behaviours, try to fix your FIS. If after several attempts to fix your FIS you found no way to fix it, then provide or guess some explanations/hypothesis.\n",
    "\n",
    "Note: you should not need to implement new classes/functions but if you do please justify it and make sure there are working properly."
   ]
  },
  {
   "cell_type": "markdown",
   "metadata": {},
   "source": [
    "## Conclusion"
   ]
  },
  {
   "cell_type": "markdown",
   "metadata": {},
   "source": [
    "This lab is less code-oriented but requires more (sort of) scientific thinking. Please show that you played and explored the behaviour with your FIS. Ask yourself many questions and confront your FIS against them. **Note that a minimal effort in doing so will result in a minimal grade.** You will mainly be evaluated on the justification and on your analysis. Remember you are the expert and this means you need to approve or disapprove the FIS you created."
   ]
  },
  {
   "cell_type": "markdown",
   "metadata": {},
   "source": [
    "-----------------\n",
    "\n",
    "# Exercice - please answer below"
   ]
  },
  {
   "cell_type": "markdown",
   "metadata": {},
   "source": [
    "**TODO student**: \n",
    "\n",
    "- Implement what is asked in the right folders\n",
    "- Write the answer to the questions asked above. _For example_:\n",
    "\n",
    ">In your opinion, what is the meaning of such a function?\n",
    "\n",
    "blablabla\n",
    "\n",
    ">Use `MembershipFunctionViewer` to demonstrate how well your implementation works with some relevant test cases/examples.\n",
    "\n",
    "_add some plots here..._"
   ]
  },
  {
   "cell_type": "code",
   "execution_count": 3,
   "metadata": {},
   "outputs": [],
   "source": [
    "#TODO student... "
   ]
  },
  {
   "cell_type": "markdown",
   "metadata": {},
   "source": [
    "### To submit\n",
    "\n",
    "* Please make a zip called `lfa_labXX_YY.zip` where `XX` is the lab number and `YY` is your familly name. For example: `lfa_lab02_smith.zip`. \n",
    "* The mail's subject is `[LFA] rendu labXX` where `XX` is the lab number\n",
    "\n",
    "The zip must contain all _needed_ the files to run this notebook. That is, don't send your virtualenv (only the requirements.txt). **If any additional steps are required to run your notebook(s)/code, please add a README.md where you indicate all the needed steps to reproduce your work.**\n",
    "\n",
    "Note: Your notebooks must run completely even after the Jupyter kernel has been restarted. To ensure it will be the case when your lab will be reviewed, please select in the top menu \"Kernel -> Restart and Run all\" and check that the output of each cell is the desired output you want to submit."
   ]
  }
 ],
 "metadata": {
  "kernelspec": {
   "display_name": "Python 3",
   "language": "python",
   "name": "python3"
  },
  "language_info": {
   "codemirror_mode": {
    "name": "ipython",
    "version": 3
   },
   "file_extension": ".py",
   "mimetype": "text/x-python",
   "name": "python",
   "nbconvert_exporter": "python",
   "pygments_lexer": "ipython3",
   "version": "3.6.4"
  }
 },
 "nbformat": 4,
 "nbformat_minor": 1
}
