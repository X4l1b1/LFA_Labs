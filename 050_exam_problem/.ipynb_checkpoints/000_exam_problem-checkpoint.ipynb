{
 "cells": [
  {
   "cell_type": "markdown",
   "metadata": {},
   "source": [
    "# Lab 05 - Exam problem\n",
    "\n",
    "Author: Gary Marigliano, based on the work of Hector Satizabal\n",
    "\n",
    "Date: 2018.03"
   ]
  },
  {
   "cell_type": "markdown",
   "metadata": {},
   "source": [
    "## Instructions:\n",
    "\n",
    "* Read this notebook\n",
    "* Do/Answer where **TODO student** is specified\n",
    "* The folder structure is like this:\n",
    "\n",
    "```\n",
    "fuzzy_systems\n",
    "├── core\n",
    "└── view\n",
    "```\n",
    "\n",
    "* `core` contains core classes like membership_functions, fuzzy_rules,...\n",
    "* `view` contains classes used to display what the core classes do.\n",
    "* Please keep this folder structure if you write additional classes.\n",
    "\n",
    "\n",
    "**TODO student** Read and explore the code provided both in this folder."
   ]
  },
  {
   "cell_type": "code",
   "execution_count": 1,
   "metadata": {},
   "outputs": [],
   "source": [
    " # change 'inline' to 'notebook' to enable 3D plots\n",
    "%matplotlib inline\n",
    "\n",
    "import numpy as np\n",
    "import matplotlib.pyplot as plt"
   ]
  },
  {
   "cell_type": "code",
   "execution_count": 15,
   "metadata": {},
   "outputs": [],
   "source": [
    "from fuzzy_systems.core.linguistic_variables.linguistic_variable import LinguisticVariable\n",
    "from fuzzy_systems.core.linguistic_variables.two_points_lv import TwoPointsPDLV\n",
    "from fuzzy_systems.core.linguistic_variables.three_points_lv import ThreePointsLV\n",
    "from fuzzy_systems.core.membership_functions.lin_piece_wise_mf import LinPWMF\n",
    "from fuzzy_systems.core.membership_functions.trap_mf import TrapMF\n",
    "from fuzzy_systems.core.membership_functions.singleton_mf import SingletonMF\n",
    "from fuzzy_systems.core.rules.fuzzy_rule import FuzzyRule, Antecedent, Consequent\n",
    "from fuzzy_systems.core.rules.default_fuzzy_rule import DefaultFuzzyRule\n",
    "from fuzzy_systems.core.fis.fis import FIS, OR_max, AND_min, MIN, COA_func\n",
    "from fuzzy_systems.core.fis.singleton_fis import SingletonFIS\n",
    "\n",
    "from fuzzy_systems.view.lv_viewer import LinguisticVariableViewer\n",
    "from fuzzy_systems.view.fis_viewer import FISViewer\n",
    "from fuzzy_systems.view.fis_surface import show_surface"
   ]
  },
  {
   "cell_type": "markdown",
   "metadata": {},
   "source": [
    "## Introduction\n",
    "\n",
    "In this notebook we will look at the exam problem. As a student you are an expert at planning which exam you must prepare first given a set of exams. For example, you know that you need to prepare the math exam a bit sooner than just 2 hours before it begins. But the same logic does not necessarily apply for all courses ;-)\n",
    "\n",
    "Your task is to design from scratch a FIS where you are the expert. Indeed, we will give you the variables and their range but you are going to create the linguistic variables, the fuzzy rules and therefore the FIS."
   ]
  },
  {
   "cell_type": "markdown",
   "metadata": {},
   "source": [
    "* Inputs variables\n",
    "  * **(D)ifficulty**: how hard the exam would be ?\n",
    "    * from 0 (easy) to 10 (hard)\n",
    "  * **(I)mportance**: how important the exam is ? Maybe you can ignore this exam because you already had good grades before. Or on the opposite, you absolutely need to nail this exam to pass the year.\n",
    "    * from 0 (yolo) to 10 (my student's life depends on it)\n",
    "  * **(R)emaining work**: You already studied a bit before so maybe there is no much work to do left. Or, on the opposite, you need to deep dive into the slides for the first time in your life.\n",
    "    * from 0 (just skim the slides) to 10 (learn everything from scratch)\n",
    "  * **(T)ime to exam**: When is the exam, tomorrow ? in 2 months ?\n",
    "    * from 0 (in days, so today) to 30 (in days, so in 1 month)\n",
    "    \n",
    "* Output variables\n",
    "  * **(P)riority**: Given the input variables above, what should be the priority of an exam ?\n",
    "    * from 0 (lowest priority, i.e. this exam will be the last you will start to revise) to 1 (highest priority, i.e. this exam will be the first you will start to revise)\n",
    "    "
   ]
  },
  {
   "cell_type": "markdown",
   "metadata": {},
   "source": [
    "## Step 1 - Create the FIS"
   ]
  },
  {
   "cell_type": "markdown",
   "metadata": {},
   "source": [
    "**TODO student**\n",
    "\n",
    "* Using the specification above (input and output variables names and ranges) create a FIS from scratch\n",
    "  * Create the linguistic variables you find relevant in terms of number of labels, name of the labels, shape of the MFs, ...\n",
    "  * Create the fuzzy rules you find relevent in terms of number of rules, number of antecedents/consequents, presence or absence of the default rule, presence or absence of NOT conditions... Note: you are not forced to use all the variables for each rule, you are free to build your FIS the way you want. The only constraint is to be able to **justify every choice you made**.\n",
    "  * Type of FIS \n",
    "* Justify your choices with a few words. **The justification is the main part of the evaluation so please be precise and complete**\n",
    "* Show your FIS using FISViewer\n"
   ]
  },
  {
   "cell_type": "markdown",
   "metadata": {},
   "source": [
    "## Step 2 - Do you trust your FIS ? aka Test the FIS"
   ]
  },
  {
   "cell_type": "markdown",
   "metadata": {},
   "source": [
    "Now that you have created your FIS it is time to test it against your personnal feelings.\n",
    "\n",
    "**TODO student**\n",
    "\n",
    "* Test your FIS on the following cases (the 5 courses below). Do the output priorities seems coherent ? If not edit your FIS to improve the outputs.\n",
    "  * Course 1: Difficulty=8, Importance=4, Remaining work=30, Time to exam=4\n",
    "  * Course 2: Difficulty=4, Importance=6, Remaining work=50, Time to exam=6\n",
    "  * Course 3: Difficulty=10, Importance=7, Remaining work=10, Time to exam=10\n",
    "  * Course 4: Difficulty=2, Importance=3, Remaining work=80, Time to exam=3\n",
    "  * Course 5: Difficulty=6, Importance=9, Remaining work=40, Time to exam=14\n",
    "* How the systems behave if the days pass but you have not progressed with your revision ? i.e. only the variable T(ime to exam) changes from t to t-1. How the priorities change? Does that seems coherent to you? Friendly reminder: maybe the function `show_surface()` can be useful.\n",
    "* Ask yourself additional questions (between 4-6) to ask to your FIS to test it. For example test the following assumption: \"The sooner the exam is the higher will the priority be\".\n",
    "* For each question justify your answers with plots and sentences.\n",
    "* Confront your FIS against your personnal feelings. For example, a math exam is more likely to be difficult than a communication exam. You could create several additional courses with a dummy context (like the 5 courses above). For example, let's imagine that Course 6 is a Java exam scheduled tomorrow and you are a beast in Java so Difficulty=2, Importance=8, Remaining work=10, Time to work=1.\n",
    "* Additional questions:\n",
    "  * How your FIS behave with extreme values ? e.g. difficulty, importance and remaining work set to maximum and time to exam set to mimimum ?\n",
    "  * Set N-2 variables to fixed values and plot using `show_surface()` the behaviour of 2 input variables. Comment the result with a few words. For example, do the input values correctly behave when their values change.\n",
    "  * Generally, can you indicate some cons or weaknesses a such FIS could have? Does your FIS (or any FIS modelling the exam problem) incorporates everything to fully answer the exam problem? Is there something you know your FIS cannot capture that might help to predict the priority?\n",
    "* **You may want to tune your FIS a couple of times in order to find a good FIS, so don't hesitate to go back to step 1**\n",
    "\n",
    "Note: you may want to reuse classes from previous labs (such as ThreePointsLV for example). If so, please make sure that you fixed these in relation to the labs feedbacks.\n",
    "\n",
    "Note: if there are odd behaviours, try to fix your FIS. If after several attempts to fix your FIS you found no way to fix it, then provide or guess some explanations/hypothesis.\n",
    "\n",
    "Note: you should not need to implement new classes/functions but if you do please justify it and make sure there are working properly."
   ]
  },
  {
   "cell_type": "markdown",
   "metadata": {},
   "source": [
    "## Conclusion"
   ]
  },
  {
   "cell_type": "markdown",
   "metadata": {},
   "source": [
    "This lab is less code-oriented but requires more (sort of) scientific thinking. Please show that you played and explored the behaviour with your FIS. Ask yourself many questions and confront your FIS against them. **Note that a minimal effort in doing so will result in a minimal grade.** You will mainly be evaluated on the justification and on your analysis. Remember you are the expert and this means you need to approve or disapprove the FIS you created."
   ]
  },
  {
   "cell_type": "markdown",
   "metadata": {},
   "source": [
    "-----------------\n",
    "\n",
    "# Exercice - please answer below"
   ]
  },
  {
   "cell_type": "markdown",
   "metadata": {},
   "source": [
    "**Step 1**: \n",
    "We first start to implement a simple mamdani FIS to have a better representation of the outputs. For simplication we used ThreePointsLV to represent the linguistic variables. We used a default rule to prevent cases that we didnt think of. By default the priority is low, we will then focus on all the cases where the priority must be high. We used the not operator to reduct the number of rules.\n",
    "We constructed our fuzzy rules as follow : \n",
    "- First of all, if importance is high, the priority will alway be high\n",
    "- If the difficulty is high then if the importance is not low, the priority will be high\n",
    "- If the remaining work is high then if time to exam is low, the priority will be high\n",
    "- Finally if the time to exam is low, the difficulty is not low and the remaining work is not not low, the priority will be high\n",
    "\n",
    "The resulting FIS is represented below : "
   ]
  },
  {
   "cell_type": "code",
   "execution_count": 27,
   "metadata": {},
   "outputs": [
    {
     "ename": "SyntaxError",
     "evalue": "invalid syntax (<ipython-input-27-207d8488a053>, line 50)",
     "output_type": "error",
     "traceback": [
      "\u001b[0;36m  File \u001b[0;32m\"<ipython-input-27-207d8488a053>\"\u001b[0;36m, line \u001b[0;32m50\u001b[0m\n\u001b[0;31m    FuzzyRule(ant_act_func=AND_min,\u001b[0m\n\u001b[0m            ^\u001b[0m\n\u001b[0;31mSyntaxError\u001b[0m\u001b[0;31m:\u001b[0m invalid syntax\n"
     ]
    }
   ],
   "source": [
    "difficulty = TwoPointsPDLV(name='Difficulty', p=0, d=10)\n",
    "\n",
    "importance = TwoPointsPDLV(name='Importance', p=0, d=10)\n",
    "\n",
    "remaining_work = ThreePointsLV(name='Remaining Work', p1=5, p2=15, p3=25)\n",
    "\n",
    "time_to_exam = ThreePointsLV(name='Time To Exam', p1=5, p2=15, p3=25)\n",
    "\n",
    "priority = ThreePointsLV(name='Priority', p1=0, p2=0.5, p3=1)\n",
    "\n",
    "# Shoul we use Singleton ???\n",
    "#priority = LinguisticVariable(name='Priority', ling_values_dict={\n",
    "#    'low': SingletonMF(0),\n",
    "#    'medium': SingletonMF(0.5),\n",
    "#    'high': SingletonMF(1)\n",
    "#})\n",
    "\n",
    "lvview = LinguisticVariableViewer(remaining_work)\n",
    "lvview.show()\n",
    "default_rule = DefaultFuzzyRule( cons=[Consequent(priority, 'medium')], impl_func=MIN)\n",
    "\n",
    "exams_rules = [\n",
    "\n",
    "    FuzzyRule(ant_act_func=AND_min,\n",
    "              ants=[Antecedent(difficulty, 'high'),\n",
    "                    Antecedent(importance, 'high')],\n",
    "              cons=[Consequent(priority, 'high')], impl_func=MIN),\n",
    "   # FuzzyRule(ant_act_func=AND_min,\n",
    "    #          ants=[Antecedent(difficulty, 'high'),\n",
    "    #                Antecedent(importance, 'low')],\n",
    "     #         cons=[Consequent(priority, 'medium')], impl_func=MIN),\n",
    "    #FuzzyRule(ant_act_func=AND_min,\n",
    "     #         ants=[Antecedent(difficulty, 'low'),\n",
    "     #               Antecedent(importance, 'high')],\n",
    "     #         cons=[Consequent(priority, 'medium')], impl_func=MIN),\n",
    "       FuzzyRule(ant_act_func=AND_min,\n",
    "              ants=[Antecedent(difficulty, 'low'),\n",
    "                    Antecedent(importance, 'low')],\n",
    "              cons=[Consequent(priority, 'low')], impl_func=MIN),\n",
    "    \n",
    "    FuzzyRule(ant_act_func=AND_min,\n",
    "              ants=[Antecedent(remaining_work, 'medium'),\n",
    "                    Antecedent(time_to_exam, 'low')],\n",
    "              cons=[Consequent(priority, 'high')], impl_func=MIN),\n",
    "    \n",
    "    FuzzyRule(ant_act_func=AND_min,\n",
    "              ants=[Antecedent(remaining_work, 'high'),\n",
    "                    Antecedent(time_to_exam, 'high', is_not=True)],\n",
    "              cons=[Consequent(priority, 'high')], impl_func=MIN)\n",
    "    FuzzyRule(ant_act_func=AND_min,\n",
    "              ants=[Antecedent(remaining_work, 'low'),\n",
    "                    Antecedent(time_to_exam, 'low', is_not=True)],\n",
    "              cons=[Consequent(priority, 'low')], impl_func=MIN),\n",
    "    \n",
    "    FuzzyRule(ant_act_func=AND_min,\n",
    "              ants=[Antecedent(difficulty, 'low', is_not=True),\n",
    "                    Antecedent(remaining_work, 'low', is_not=True),\n",
    "                    Antecedent(time_to_exam, 'low')],\n",
    "              cons=[Consequent(priority, 'high')], impl_func=MIN)\n",
    "]\n",
    "\n",
    "#fis = FIS(rules=exams_rules, aggr_func=np.max,\n",
    "#          defuzz_func=COA_func)\n",
    "\n",
    "#Default rule ??\n",
    "fis = FIS(rules=exams_rules, aggr_func=np.max,\n",
    "          defuzz_func=COA_func, default_rule=default_rule)\n",
    "\n",
    "input_values = {'Difficulty': 8, 'Importance': 4, 'Remaining Work': 30, 'Time To Exam': 4}\n",
    "fis.predict(input_values)\n",
    "fisv = FISViewer(fis)\n",
    "fisv.show()\n",
    "\n",
    "#input_values = {'Difficulty': 4, 'Importance': 6, 'Remaining Work': 50, 'Time To Exam': 6}\n",
    "#fis.predict(input_values)\n",
    "#fisv = FISViewer(fis)\n",
    "#fisv.show()\n",
    "\n",
    "#input_values = {'Difficulty': 10, 'Importance': 7, 'Remaining Work': 10, 'Time To Exam': 10}\n",
    "#fis.predict(input_values)\n",
    "#fisv = FISViewer(fis)\n",
    "#fisv.show()\n",
    "\n",
    "#input_values = {'Difficulty': 2, 'Importance': 3, 'Remaining Work': 80, 'Time To Exam': 3}\n",
    "#fis.predict(input_values)\n",
    "#fisv = FISViewer(fis)\n",
    "#fisv.show()\n",
    "\n",
    "#input_values = {'Difficulty': 6, 'Importance': 9, 'Remaining Work': 40, 'Time To Exam': 14}\n",
    "#fis.predict(input_values)\n",
    "#fisv = FISViewer(fis)\n",
    "#fisv.show()"
   ]
  },
  {
   "cell_type": "markdown",
   "metadata": {},
   "source": [
    "**Step 2**\n",
    "Now that we have created our FIS it is time to test it against our personnal feelings.\n",
    "\n",
    "* Test your FIS on the following cases (the 5 courses below). Do the output priorities seems coherent ? If not edit your FIS to improve the outputs.\n",
    "  * Course 1: Difficulty=8, Importance=4, Remaining work=30, Time to exam=4   ==>> Priority = 0.53\n",
    "  * Course 2: Difficulty=4, Importance=6, Remaining work=50, Time to exam=6   ==>> Priority = 0.47\n",
    "  * Course 3: Difficulty=10, Importance=7, Remaining work=10, Time to exam=10 ==>> Priority = 0.69\n",
    "  * Course 4: Difficulty=2, Importance=3, Remaining work=80, Time to exam=3   ==>> Priority = 0.54\n",
    "  * Course 5: Difficulty=6, Importance=9, Remaining work=40, Time to exam=14  ==>> Priority = 0.67\n",
    "  \n",
    " > The outputs seems to be coherent.\n",
    " \n",
    "* How the systems behave if the days pass but you have not progressed with your revision ? i.e. only the variable T(ime to exam) changes from t to t-1. How the priorities change? Does that seems coherent to you? Friendly reminder: maybe the function `show_surface()` can be useful.\n",
    " > In order to analyse the evolution of the priority with the time remaining before the exam, we simply created a plot representing the time to exam vs the priority, when the other parameters stay constants(D=8, I=5, R=50).\n",
    " \n"
   ]
  },
  {
   "cell_type": "code",
   "execution_count": null,
   "metadata": {},
   "outputs": [],
   "source": [
    "times_to_exam = np.array([30, 25, 20, 15, 10, 5, 0])\n",
    "\n",
    "def f(x):\n",
    "    return fis.predict({'Difficulty': 5, \n",
    "                          'Importance': 5, \n",
    "                          'Remaining Work': 50, \n",
    "                          'Time To Exam': x})[\"Priority\"]\n",
    "\n",
    "f = np.vectorize(f, otypes=[np.float])\n",
    "priorities = f(times_to_exam)\n",
    "\n",
    "plt.plot(times_to_exam, priorities)\n",
    "plt.ylabel('Priority')\n",
    "plt.xlabel('Time To Exam')\n",
    "plt.show()"
   ]
  },
  {
   "cell_type": "markdown",
   "metadata": {},
   "source": [
    ">The evolution of the priority variable seems to be coherent BLABLAVBLAVLAVBSIKHJSBKWBKJSNQ"
   ]
  },
  {
   "cell_type": "markdown",
   "metadata": {},
   "source": [
    "* Ask yourself additional questions (between 4-6) to ask to your FIS to test it. For example test the following assumption: \"The sooner the exam is the higher will the priority be\". For each question justify your answers with plots and sentences.\n",
    "> (Question 1) : The more important the exam is, the highter the priority will be \n",
    "\n",
    "    > We can see that BLBLABLABAKMALNKJBWKJNBKWNXKJNWKJBXJKWKJNKJWNK"
   ]
  },
  {
   "cell_type": "code",
   "execution_count": null,
   "metadata": {},
   "outputs": [],
   "source": [
    "importances = np.array([0, 1, 2, 3, 4, 5, 6, 7, 8, 9, 10])\n",
    "\n",
    "def f(x):\n",
    "    return fis.predict({'Difficulty': 5, \n",
    "                          'Importance': x, \n",
    "                          'Remaining Work': 50, \n",
    "                          'Time To Exam': 15})[\"Priority\"]\n",
    "\n",
    "f = np.vectorize(f, otypes=[np.float])\n",
    "priorities = f(importances)\n",
    "\n",
    "plt.plot(importances, priorities)\n",
    "plt.ylabel('Priority')\n",
    "plt.xlabel('Importance')\n",
    "plt.show()"
   ]
  },
  {
   "cell_type": "markdown",
   "metadata": {},
   "source": [
    "> (Question 2) : The more work I have to procude for the exam, the highter the priority will be \n",
    "\n",
    "    > We can see that BLBLABLABAKMALNKJBWKJNBKWNXKJNWKJBXJKWKJNKJWNK"
   ]
  },
  {
   "cell_type": "code",
   "execution_count": null,
   "metadata": {},
   "outputs": [],
   "source": [
    "remainings_work = np.array([0, 10, 20, 30, 40, 50, 60, 70, 80, 90, 100])\n",
    "\n",
    "def f(x):\n",
    "    return fis.predict({'Difficulty': 5, \n",
    "                          'Importance': 5, \n",
    "                          'Remaining Work': x, \n",
    "                          'Time To Exam': 15})[\"Priority\"]\n",
    "\n",
    "f = np.vectorize(f, otypes=[np.float])\n",
    "priorities = f(remainings_work)\n",
    "\n",
    "plt.plot(remainings_work, priorities)\n",
    "plt.ylabel('Priority')\n",
    "plt.xlabel('Remaining Work')\n",
    "plt.show()"
   ]
  },
  {
   "cell_type": "markdown",
   "metadata": {},
   "source": [
    "> (Question 3) : The more difficult the exam is, the highter the priority will be \n",
    "\n",
    "    > We can see that BLBLABLABAKMALNKJBWKJNBKWNXKJNWKJBXJKWKJNKJWNK"
   ]
  },
  {
   "cell_type": "code",
   "execution_count": null,
   "metadata": {},
   "outputs": [],
   "source": [
    "difficulties = np.array([0, 1, 2, 3, 4, 5, 6, 7, 8, 9, 10])\n",
    "\n",
    "def f(x):\n",
    "    return fis.predict({'Difficulty': x, \n",
    "                          'Importance': 5, \n",
    "                          'Remaining Work': 50, \n",
    "                          'Time To Exam': 15})[\"Priority\"]\n",
    "\n",
    "f = np.vectorize(f, otypes=[np.float])\n",
    "priorities = f(difficulties)\n",
    "\n",
    "plt.plot(difficulties, priorities)\n",
    "plt.ylabel('Priority')\n",
    "plt.xlabel('Difficulty')\n",
    "plt.show()"
   ]
  },
  {
   "cell_type": "markdown",
   "metadata": {},
   "source": [
    "> (Question 4) : The more important the exam is, the highter the priority will be \n",
    "\n",
    "    > We can see that BLBLABLABAKMALNKJBWKJNBKWNXKJNWKJBXJKWKJNKJWNK"
   ]
  },
  {
   "cell_type": "code",
   "execution_count": null,
   "metadata": {},
   "outputs": [],
   "source": [
    "times_to_exam = np.array([30, 25, 20, 15, 10, 5, 0])\n",
    "\n",
    "def f(x):\n",
    "    return fis.predict({'Difficulty': 8, \n",
    "                          'Importance': 4, \n",
    "                          'Remaining Work': 29, \n",
    "                          'Time To Exam': x})[\"Priority\"]\n",
    "\n",
    "f = np.vectorize(f, otypes=[np.float])\n",
    "priorities = f(times_to_exam)\n",
    "\n",
    "plt.plot(times_to_exam, priorities)\n",
    "plt.ylabel('Priority')\n",
    "plt.xlabel('Time To Exam')\n",
    "plt.show()"
   ]
  },
  {
   "cell_type": "markdown",
   "metadata": {},
   "source": [
    "> (Question 5) : The more important the exam is, the highter the priority will be \n",
    "\n",
    "    > We can see that BLBLABLABAKMALNKJBWKJNBKWNXKJNWKJBXJKWKJNKJWNK"
   ]
  },
  {
   "cell_type": "code",
   "execution_count": null,
   "metadata": {},
   "outputs": [],
   "source": [
    "times_to_exam = np.array([30, 25, 20, 15, 10, 5, 0])\n",
    "\n",
    "def f(x):\n",
    "    return fis.predict({'Difficulty': 8, \n",
    "                          'Importance': 4, \n",
    "                          'Remaining Work': 29, \n",
    "                          'Time To Exam': x})[\"Priority\"]\n",
    "\n",
    "f = np.vectorize(f, otypes=[np.float])\n",
    "priorities = f(times_to_exam)\n",
    "\n",
    "plt.plot(times_to_exam, priorities)\n",
    "plt.ylabel('Priority')\n",
    "plt.xlabel('Time To Exam')\n",
    "plt.show()"
   ]
  },
  {
   "cell_type": "markdown",
   "metadata": {},
   "source": [
    "> (Question 6) : The more important the exam is, the highter the priority will be \n",
    "\n",
    "    > We can see that BLBLABLABAKMALNKJBWKJNBKWNXKJNWKJBXJKWKJNKJWNK"
   ]
  },
  {
   "cell_type": "code",
   "execution_count": null,
   "metadata": {},
   "outputs": [],
   "source": [
    "times_to_exam = np.array([30, 25, 20, 15, 10, 5, 0])\n",
    "\n",
    "def f(x):\n",
    "    return fis.predict({'Difficulty': 8, \n",
    "                          'Importance': 4, \n",
    "                          'Remaining Work': 29, \n",
    "                          'Time To Exam': x})[\"Priority\"]\n",
    "\n",
    "f = np.vectorize(f, otypes=[np.float])\n",
    "priorities = f(times_to_exam)\n",
    "\n",
    "plt.plot(times_to_exam, priorities)\n",
    "plt.ylabel('Priority')\n",
    "plt.xlabel('Time To Exam')\n",
    "plt.show()"
   ]
  },
  {
   "cell_type": "markdown",
   "metadata": {},
   "source": [
    "* Confront your FIS against your personnal feelings. For example, a math exam is more likely to be difficult than a communication exam. You could create several additional courses with a dummy context (like the 5 courses above). For example, let's imagine that Course 6 is a Java exam scheduled tomorrow and you are a beast in Java so Difficulty=2, Importance=8, Remaining work=10, Time to work=1.\n",
    "\n",
    "  * Course 1, LFA : Difficulty=8, Importance=10, Remaining work=99, Time to exam=30   ==>> Priority = 0.53 TO REPLACE!\n",
    "  * Course 2, MLG : Difficulty=8, Importance=9, Remaining work=90, Time to exam=15   ==>> Priority = 0.47 TO REPLACE!\n",
    "  * Course 3, SCALA : Difficulty=9, Importance=7, Remaining work=45, Time to exam=10 ==>> Priority = 0.69 TO REPLACE!\n",
    "  * Course 4, VTK : Difficulty=3, Importance=3, Remaining work=60, Time to exam=10   ==>> Priority = 0.54 TO REPLACE!\n",
    "  * Course 5, CLD : Difficulty=1, Importance=5, Remaining work=10, Time to exam=7  ==>> Priority = 0.67 TO REPLACE!\n"
   ]
  },
  {
   "cell_type": "markdown",
   "metadata": {},
   "source": [
    "* Additional questions:\n",
    "  * How your FIS behave with extreme values ? e.g. difficulty, importance and remaining work set to maximum and time to exam set to mimimum ?\n",
    "  * Set N-2 variables to fixed values and plot using `show_surface()` the behaviour of 2 input variables. Comment the result with a few words. For example, do the input values correctly behave when their values change.\n",
    "  * Generally, can you indicate some cons or weaknesses a such FIS could have? Does your FIS (or any FIS modelling the exam problem) incorporates everything to fully answer the exam problem? Is there something you know your FIS cannot capture that might help to predict the priority?\n",
    "      > cons: \n",
    "  \n",
    "      > pros: \n",
    "  \n",
    "      > No the FIS do not incorporate everything to fully answer the exam problem, it is very difficult to represent all the possibilities, so we try to approach a good result............\n",
    "\n",
    "Note: you may want to reuse classes from previous labs (such as ThreePointsLV for example). If so, please make sure that you fixed these in relation to the labs feedbacks.\n",
    "\n",
    "Note: if there are odd behaviours, try to fix your FIS. If after several attempts to fix your FIS you found no way to fix it, then provide or guess some explanations/hypothesis.\n",
    "\n",
    "Note: you should not need to implement new classes/functions but if you do please justify it and make sure there are working properly."
   ]
  },
  {
   "cell_type": "markdown",
   "metadata": {},
   "source": [
    "### To submit\n",
    "\n",
    "* Please make a zip called `lfa_labXX_YY.zip` where `XX` is the lab number and `YY` is your familly name. For example: `lfa_lab02_smith.zip`. \n",
    "* The mail's subject is `[LFA] rendu labXX` where `XX` is the lab number\n",
    "\n",
    "The zip must contain all _needed_ the files to run this notebook. That is, don't send your virtualenv (only the requirements.txt). **If any additional steps are required to run your notebook(s)/code, please add a README.md where you indicate all the needed steps to reproduce your work.**\n",
    "\n",
    "Note: Your notebooks must run completely even after the Jupyter kernel has been restarted. To ensure it will be the case when your lab will be reviewed, please select in the top menu \"Kernel -> Restart and Run all\" and check that the output of each cell is the desired output you want to submit."
   ]
  }
 ],
 "metadata": {
  "kernelspec": {
   "display_name": "Python 3",
   "language": "python",
   "name": "python3"
  },
  "language_info": {
   "codemirror_mode": {
    "name": "ipython",
    "version": 3
   },
   "file_extension": ".py",
   "mimetype": "text/x-python",
   "name": "python",
   "nbconvert_exporter": "python",
   "pygments_lexer": "ipython3",
   "version": "3.6.4"
  }
 },
 "nbformat": 4,
 "nbformat_minor": 1
}
