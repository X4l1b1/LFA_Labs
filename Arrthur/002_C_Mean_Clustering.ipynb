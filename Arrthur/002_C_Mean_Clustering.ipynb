{
 "cells": [
  {
   "cell_type": "markdown",
   "metadata": {},
   "source": [
    "# C-mean Clustering\n",
    "Fuzzy c-Means Clustering} (FMC) is a clustering method which, unlike Hard k-Means Clustering, allows a data sample to more or less belong to one or more clusters. In this notebook, we will try to develop a semi-supervised C-mean Clustering."
   ]
  },
  {
   "cell_type": "markdown",
   "metadata": {},
   "source": [
    "## Loading the packages"
   ]
  },
  {
   "cell_type": "code",
   "execution_count": 1,
   "metadata": {},
   "outputs": [],
   "source": [
    "import numpy as np\n",
    "from cvi import * # fcm\n",
    "import matplotlib.pyplot as plt\n",
    "from numpy import genfromtxt\n",
    "from random import randint\n",
    "import operator\n",
    "import math\n",
    "from sklearn import metrics\n",
    "import scipy.spatial\n",
    "import copy\n",
    "DATASETS = ['melanomaTest.dat.csv', 'seeds_dataset.csv'] # http://cibcb.org/data/\n",
    "\n",
    "PATH_TO_DATASET = DATASETS[1] # Not Given Yet \n",
    "\n",
    "%matplotlib inline"
   ]
  },
  {
   "cell_type": "markdown",
   "metadata": {},
   "source": [
    "## The dataset\n",
    "Here we load the dataset and delete randomly some labels to test our implementation of semi-supervised FCM"
   ]
  },
  {
   "cell_type": "code",
   "execution_count": 2,
   "metadata": {},
   "outputs": [],
   "source": [
    "dataset = genfromtxt(PATH_TO_DATASET, delimiter=';')\n",
    "    \n",
    "# save all the labels to calculate the performance of our algorithm\n",
    "true_labels = copy.copy(dataset[:, -1])\n",
    "labels_names = np.unique(true_labels)\n",
    "\n",
    "# remove some labels for test purpose\n",
    "for i in range(50):\n",
    "    dataset[randint(0, len(dataset) - 1)][-1] = 0"
   ]
  },
  {
   "cell_type": "markdown",
   "metadata": {},
   "source": [
    "## FCM algorithm\n",
    "Here we define a unsupervised implementation of the FCM from ..."
   ]
  },
  {
   "cell_type": "code",
   "execution_count": 3,
   "metadata": {},
   "outputs": [],
   "source": [
    "def fcm_get_u(x, v, m):\n",
    "    distances = pairwise_squared_distances(x, v)\n",
    "    nonzero_distances = np.fmax(distances, np.finfo(np.float64).eps)\n",
    "    inv_distances = np.reciprocal(nonzero_distances)**(1/(m - 1))\n",
    "    return inv_distances.T/np.sum(inv_distances, axis=1)\n",
    "\n",
    "def fcm(x, c, m=2.0, v=None, max_iter=100, error=0.05):\n",
    "    if v is None: v = x[np.random.randint(x.shape[0], size=c)]\n",
    "    u = fcm_get_u(x, v, m)\n",
    "    for iteration in range(max_iter):\n",
    "        u_old = u\n",
    "        um = u**m\n",
    "        v = np.dot(um, x)/np.sum(um, axis=1, keepdims=True)\n",
    "        u = fcm_get_u(x, v, m)\n",
    "        if np.linalg.norm(u - u_old) < error: break\n",
    "    return u, v"
   ]
  },
  {
   "cell_type": "markdown",
   "metadata": {},
   "source": [
    "## Semi-supervised C-Mean\n",
    "Here are all the function needed to transform our algorithm to a semi-supervised one"
   ]
  },
  {
   "cell_type": "code",
   "execution_count": 9,
   "metadata": {},
   "outputs": [],
   "source": [
    "def pairwise_squared_distances(A, B):\n",
    "    return scipy.spatial.distance.cdist(A, B)**2\n",
    "\n",
    "def calculate_covariances(x, u, v, m):\n",
    "    c, n = np.array(u).shape\n",
    "    d = np.array(v).shape[1]\n",
    "    \n",
    "    um = np.array(u)**m\n",
    "\n",
    "    covariances = np.zeros((c, d, d))\n",
    "\n",
    "    for i in range(c):\n",
    "        xv = x - v[i]\n",
    "        uxv = um[i, :, np.newaxis]*xv\n",
    "        covariances[i] = np.einsum('ni,nj->ij', uxv, xv)/np.sum(um[i])\n",
    "    \n",
    "    return covariances\n",
    "\n",
    "# Partition Coefficient\n",
    "def pc(x, u, v, m):\n",
    "    c, n = np.array(u).shape\n",
    "    return np.square(np.array(u)).sum()/n\n",
    "\n",
    "# Fuzzy Hyperbolic Volume\n",
    "def fhv(x, u, v, m):\n",
    "    covariances = calculate_covariances(x, u, v, m)\n",
    "    return sum(np.sqrt(np.linalg.det(cov)) for cov in covariances)\n",
    "\n",
    "# Xie-Beni Index\n",
    "def xb(x, u, v, m):\n",
    "    n = np.array(x).shape[0]\n",
    "    c = np.array(v).shape[0]\n",
    "\n",
    "    um = np.array(u)**m\n",
    "    \n",
    "    d2 = pairwise_squared_distances(x, v)\n",
    "    v2 = pairwise_squared_distances(v, v)\n",
    "    \n",
    "    v2[v2 == 0.0] = np.inf\n",
    "\n",
    "    return np.sum(um.T*d2)/(n*np.min(v2))\n",
    "\n",
    "def checkKnownEntries(dataset, labels, c):\n",
    "    res = np.zeros((c, len(labels_names)))\n",
    "    for cluster in range(c) :\n",
    "        for i in range(len(dataset)):\n",
    "            if(dataset[i][-1] != 0 and labels[i] == cluster):\n",
    "                res[cluster][int(dataset[i][-1] - 1)] += 1\n",
    "    \n",
    "    for cluster in range(c):\n",
    "        c_total = res[cluster][0] + res[cluster][1]\n",
    "        res[cluster][0] /= c_total\n",
    "        res[cluster][1] /= c_total\n",
    "\n",
    "    return res"
   ]
  },
  {
   "cell_type": "code",
   "execution_count": 12,
   "metadata": {},
   "outputs": [],
   "source": [
    "def getClass(dataset, labels, k):\n",
    "    count_class = np.zeros((k, len(labels_names)))\n",
    "    newLabels = copy.copy(labels)\n",
    "\n",
    "    for i in range(len(dataset)):\n",
    "        if(dataset[i][-1] != 0):\n",
    "            count_class[labels[i]][int(dataset[i][-1] - 1)] += 1\n",
    "\n",
    "    for c in range(len(count_class)):  \n",
    "        indexPredominantClass = np.argmax(count_class[c])\n",
    "        if np.max(count_class[c]) == 0:\n",
    "            cl = 0\n",
    "        else :\n",
    "            cl = labels_names[indexPredominantClass]\n",
    "            \n",
    "        for i in range(len(labels)):\n",
    "            if labels[i] == c:\n",
    "                newLabels[i] = cl \n",
    "            \n",
    "    return newLabels\n",
    "    "
   ]
  },
  {
   "cell_type": "code",
   "execution_count": 6,
   "metadata": {},
   "outputs": [],
   "source": [
    "def getAccuracy(true_labels, labels):\n",
    "    same = 0\n",
    "    for t, p in zip(true_labels, labels):\n",
    "        if int(t) == int(p):\n",
    "            same += 1\n",
    "    return same / len(true_labels) * 100"
   ]
  },
  {
   "cell_type": "code",
   "execution_count": 7,
   "metadata": {},
   "outputs": [],
   "source": [
    "def getClusters(dataset, membership_mat):\n",
    "    cluster_labels = list()\n",
    "    for i in range(len(dataset)):\n",
    "        max_val, idx = max((val, idx) for (idx, val) in enumerate(membership_mat[i]))\n",
    "        cluster_labels.append(idx)\n",
    "    return cluster_labels"
   ]
  },
  {
   "cell_type": "markdown",
   "metadata": {},
   "source": [
    "## Main Execution \n",
    "blablabla"
   ]
  },
  {
   "cell_type": "code",
   "execution_count": 16,
   "metadata": {},
   "outputs": [
    {
     "name": "stdout",
     "output_type": "stream",
     "text": [
      "label: [1.0, 1.0, 1.0, 1.0, 1.0, 1.0, 1.0, 1.0, 1.0, 1.0, 1.0, 1.0, 1.0, 1.0, 1.0, 3.0, 1.0, 1.0, 1.0, 1.0, 1.0, 1.0, 1.0, 1.0, 1.0, 1.0, 1.0, 1.0, 1.0, 1.0, 1.0, 1.0, 1.0, 1.0, 2.0, 2.0, 1.0, 3.0, 1.0, 1.0, 1.0, 1.0, 1.0, 1.0, 1.0, 1.0, 1.0, 1.0, 1.0, 1.0, 1.0, 1.0, 1.0, 1.0, 1.0, 1.0, 1.0, 1.0, 1.0, 1.0, 1.0, 1.0, 1.0, 1.0, 1.0, 1.0, 2.0, 2.0, 2.0, 2.0, 2.0, 2.0, 2.0, 2.0, 2.0, 2.0, 1.0, 2.0, 2.0, 2.0, 2.0, 2.0, 2.0, 2.0, 2.0, 2.0, 2.0, 2.0, 2.0, 2.0, 2.0, 2.0, 2.0, 2.0, 2.0, 2.0, 2.0, 2.0, 2.0, 2.0, 2.0, 2.0, 2.0, 2.0, 2.0, 2.0, 2.0, 2.0, 2.0, 2.0, 2.0, 2.0, 2.0, 2.0, 2.0, 2.0, 2.0, 1.0, 2.0, 1.0, 2.0, 2.0, 2.0, 2.0, 2.0, 2.0, 2.0, 1.0, 1.0, 1.0, 2.0, 1.0, 1.0, 2.0, 3.0, 3.0, 3.0, 3.0, 3.0, 3.0, 1.0, 3.0, 1.0, 3.0, 3.0, 3.0, 3.0, 3.0, 3.0, 3.0, 3.0, 3.0, 3.0, 3.0, 1.0, 3.0, 3.0, 3.0, 3.0, 1.0, 3.0, 1.0, 3.0, 3.0, 3.0, 3.0, 3.0, 3.0, 3.0, 3.0, 1.0, 3.0, 3.0, 3.0, 3.0, 3.0, 3.0, 3.0, 3.0, 3.0, 3.0, 3.0, 3.0, 3.0, 3.0, 1.0, 3.0, 3.0, 3.0, 1.0, 1.0, 3.0, 3.0, 1.0, 1.0, 3.0, 3.0, 3.0, 3.0] 199\n",
      "true_label: [1. 1. 1. 1. 1. 1. 1. 1. 1. 1. 1. 1. 1. 1. 1. 1. 1. 1. 1. 1. 1. 1. 1. 1.\n",
      " 1. 1. 1. 1. 1. 1. 1. 1. 1. 1. 1. 1. 1. 1. 1. 1. 1. 1. 1. 1. 1. 1. 1. 1.\n",
      " 1. 1. 1. 1. 1. 1. 1. 1. 1. 1. 1. 1. 1. 1. 1. 1. 1. 1. 2. 2. 2. 2. 2. 2.\n",
      " 2. 2. 2. 2. 2. 2. 2. 2. 2. 2. 2. 2. 2. 2. 2. 2. 2. 2. 2. 2. 2. 2. 2. 2.\n",
      " 2. 2. 2. 2. 2. 2. 2. 2. 2. 2. 2. 2. 2. 2. 2. 2. 2. 2. 2. 2. 2. 2. 2. 2.\n",
      " 2. 2. 2. 2. 2. 2. 2. 2. 2. 2. 2. 2. 2. 2. 3. 3. 3. 3. 3. 3. 3. 3. 3. 3.\n",
      " 3. 3. 3. 3. 3. 3. 3. 3. 3. 3. 3. 3. 3. 3. 3. 3. 3. 3. 3. 3. 3. 3. 3. 3.\n",
      " 3. 3. 3. 3. 3. 3. 3. 3. 3. 3. 3. 3. 3. 3. 3. 3. 3. 3. 3. 3. 3. 3. 3. 3.\n",
      " 3. 3. 3. 3. 3. 3. 3.] 199\n",
      "number of cluster =  14\n",
      "accuracy =  88.44221105527639\n"
     ]
    },
    {
     "name": "stderr",
     "output_type": "stream",
     "text": [
      "/anaconda3/lib/python3.6/site-packages/ipykernel_launcher.py:52: RuntimeWarning: invalid value encountered in double_scalars\n",
      "/anaconda3/lib/python3.6/site-packages/ipykernel_launcher.py:53: RuntimeWarning: invalid value encountered in double_scalars\n"
     ]
    }
   ],
   "source": [
    "def clusterize(dataset):\n",
    "    result_labels = [[]]\n",
    "    result_mb     = [[]]\n",
    "    temp_data = copy.deepcopy(dataset)\n",
    "    c = 2\n",
    "    done = False\n",
    "    while(not done and c < math.sqrt(len(dataset))): \n",
    "        mb, centers = fcm(dataset[:,:-1], c)\n",
    "        labels = getClusters(dataset[:,:-1], mb.T )\n",
    "        \n",
    "        # First, check supervised values\n",
    "        # TOFIX : Bordel with cluster indexes, won't work.\n",
    "        sup_verif = checkKnownEntries(dataset, labels, c)\n",
    "        cluster_ok = []\n",
    "        for i in range(c):\n",
    "            if(sup_verif[i][0] < 0.05 or sup_verif[i][0] > 0.95):\n",
    "                cluster_ok.append(i)\n",
    "\n",
    "        if(len(cluster_ok) < c):\n",
    "            # If no cluster is good enough (with known values) start with more clusters\n",
    "            c =c + 1\n",
    "            continue\n",
    "        else:\n",
    "            # Check our values aren't just luckily in same clusters using unsup CVI\n",
    "            #fhv_s = fhv(x = temp_data[:,:-1], v = centers, u = mb, m =2)\n",
    "            #pc_s  = pc(temp_data[:,:-1], mb, centers, 2)\n",
    "            #xb_s  = xb(x = temp_data[:,:-1], u = mb, v = centers, m = 2)\n",
    "            # If values aren't good enough, our know entries were \"luckily\" grouped\n",
    "            #if(pc_s < 0.9 or xb_s > 0.1):#fhv_s > 0.1 or \n",
    "            #    c = c + 1\n",
    "            #    continue\n",
    "            #else:\n",
    "            done = True\n",
    "            break\n",
    "            # Else, we have to keep labeled data and remove it  \n",
    "            temp_data = [[]]\n",
    "            for i in range(len(dataset)):\n",
    "                if(dataset[i][-1] in cluster_ok):\n",
    "                    result_labels.append(dataset[i].append(labels[i]))\n",
    "                    result_mb.append(mb[i])\n",
    "                else:\n",
    "                    temp_data.append(dataset[i])\n",
    "                    \n",
    "            # Keep same number of pixels (equivalent to split remaining clusters in +1)\n",
    "            continue\n",
    "            \n",
    "    return labels, centers, mb\n",
    "\n",
    "labels, centers, mb = clusterize(dataset)\n",
    "labels = getClass(dataset, labels, len(centers))\n",
    "print(\"label:\", labels, len(labels))\n",
    "print(\"true_label:\",true_labels, len(dataset[:,-1]) )\n",
    "print(\"number of cluster = \", len(centers))\n",
    "print(\"accuracy = \", getAccuracy(true_labels, labels))\n"
   ]
  },
  {
   "cell_type": "markdown",
   "metadata": {},
   "source": [
    "## Results and Analyse"
   ]
  },
  {
   "cell_type": "code",
   "execution_count": 17,
   "metadata": {},
   "outputs": [
    {
     "data": {
      "image/png": "[encoded data removed]",
      "text/plain": [
       "<matplotlib.figure.Figure at 0x1a0e4c9438>"
      ]
     },
     "metadata": {},
     "output_type": "display_data"
    }
   ],
   "source": [
    "from sklearn.metrics import confusion_matrix\n",
    "import itertools\n",
    "conf_mat = metrics.confusion_matrix(labels, true_labels)\n",
    "\n",
    "def plot_confusion_matrix(cm, title='Confusion matrix', cmap=plt.cm.Blues):\n",
    "    plt.imshow(cm, interpolation='nearest', cmap=cmap)\n",
    "    plt.title(title)\n",
    "    plt.colorbar()\n",
    "    tick_marks = np.arange(len(labels_names))\n",
    "    plt.xticks(tick_marks, labels_names, rotation=45)\n",
    "    plt.yticks(tick_marks, labels_names)\n",
    "    plt.tight_layout()\n",
    "    plt.ylabel('True label')\n",
    "    plt.xlabel('Predicted label')\n",
    "\n",
    "    thresh = cm.max() / 2.\n",
    "    for i, j in itertools.product(range(cm.shape[0]), range(cm.shape[1])):\n",
    "        plt.text(j, i, format(cm[i, j]),\n",
    "                 horizontalalignment=\"center\",\n",
    "                 color=\"white\" if cm[i, j] > thresh else \"black\")\n",
    "plot_confusion_matrix(conf_mat)"
   ]
  },
  {
   "cell_type": "code",
   "execution_count": 18,
   "metadata": {},
   "outputs": [
    {
     "name": "stdout",
     "output_type": "stream",
     "text": [
      "Precision:  0.9255514705882353\n",
      "Recall:  0.9267281105990783\n",
      "F1-Score:  0.9261394168699142\n"
     ]
    }
   ],
   "source": [
    "precision = (conf_mat[0][0]/(conf_mat[0][0] + conf_mat[1][0]) + conf_mat[1][1]/(conf_mat[1][1] + conf_mat[0][1]))/2\n",
    "print(\"Precision: \", precision)\n",
    "recall = (conf_mat[0][0]/(conf_mat[0][0] + conf_mat[0][1]) + conf_mat[1][1]/(conf_mat[1][1] + conf_mat[1][0]))/2\n",
    "print(\"Recall: \", recall)\n",
    "f1score = 2*(precision*recall)/(precision+recall)\n",
    "print(\"F1-Score: \", f1score)\n"
   ]
  }
 ],
 "metadata": {
  "kernelspec": {
   "display_name": "Python 3",
   "language": "python",
   "name": "python3"
  },
  "language_info": {
   "codemirror_mode": {
    "name": "ipython",
    "version": 3
   },
   "file_extension": ".py",
   "mimetype": "text/x-python",
   "name": "python",
   "nbconvert_exporter": "python",
   "pygments_lexer": "ipython3",
   "version": "3.6.4"
  },
  "widgets": {
   "state": {
    "f7df0ab69b604903958cf654849aa9ee": {
     "views": [
      {
       "cell_index": 6
      }
     ]
    }
   },
   "version": "1.2.0"
  }
 },
 "nbformat": 4,
 "nbformat_minor": 1
}
