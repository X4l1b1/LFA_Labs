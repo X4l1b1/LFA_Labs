{
 "cells": [
  {
   "cell_type": "markdown",
   "metadata": {},
   "source": [
    "# Lab 03\n",
    "\n",
    "Author: Gary Marigliano, based on the work of Hector Satizabal\n",
    "\n",
    "Date: 2018.02"
   ]
  },
  {
   "cell_type": "markdown",
   "metadata": {},
   "source": [
    "## Instructions:\n",
    "\n",
    "* Read this notebook\n",
    "* Do/Answer where **TODO student** is specified\n",
    "* The folder structure is like this:\n",
    "\n",
    "```\n",
    "fuzzy_systems\n",
    "├── core\n",
    "└── view\n",
    "```\n",
    "\n",
    "* `core` contains core classes like membership_functions, fuzzy_rules,...\n",
    "* `view` contains classes used to display what the core classes do.\n",
    "* when you will do the exercises, please follow the same convention.\n",
    "\n",
    "\n",
    "**TODO student** Read and explore the code provided both in this folder."
   ]
  },
  {
   "cell_type": "code",
   "execution_count": 1,
   "metadata": {},
   "outputs": [],
   "source": [
    "import numpy as np\n",
    "import matplotlib.pyplot as plt\n",
    "\n",
    "%matplotlib inline"
   ]
  },
  {
   "cell_type": "markdown",
   "metadata": {},
   "source": [
    "With Jupyter it is possible to execute command line programs by using prefixing the cell with a \"!\". Here we show/\"cat\" the content of a file. /!\\ Pygmentize should be installed with your virtualenv."
   ]
  },
  {
   "cell_type": "code",
   "execution_count": 2,
   "metadata": {},
   "outputs": [
    {
     "name": "stdout",
     "output_type": "stream",
     "text": [
      "\u001b[34mimport\u001b[39;49;00m \u001b[04m\u001b[36mnumpy\u001b[39;49;00m \u001b[34mas\u001b[39;49;00m \u001b[04m\u001b[36mnp\u001b[39;49;00m\r\n",
      "\r\n",
      "\r\n",
      "\u001b[34mclass\u001b[39;49;00m \u001b[04m\u001b[32mFreeShapeMF\u001b[39;49;00m:\r\n",
      "    \u001b[34mdef\u001b[39;49;00m \u001b[32m__init__\u001b[39;49;00m(\u001b[36mself\u001b[39;49;00m, in_values, mf_values):\r\n",
      "        \u001b[33m\"\"\"\u001b[39;49;00m\r\n",
      "\u001b[33m        Build a membership function by defining input values (x axis, in_values)\u001b[39;49;00m\r\n",
      "\u001b[33m        and corresponding output values (y axis, mf_values)\u001b[39;49;00m\r\n",
      "\u001b[33m\u001b[39;49;00m\r\n",
      "\u001b[33m        This class is the most basic way available to create membership\u001b[39;49;00m\r\n",
      "\u001b[33m        functions.\u001b[39;49;00m\r\n",
      "\u001b[33m\u001b[39;49;00m\r\n",
      "\u001b[33m        :param in_values:\u001b[39;49;00m\r\n",
      "\u001b[33m        :param mf_values:\u001b[39;49;00m\r\n",
      "\u001b[33m        \"\"\"\u001b[39;49;00m\r\n",
      "        \u001b[34massert\u001b[39;49;00m \u001b[36mlen\u001b[39;49;00m(in_values) == \u001b[36mlen\u001b[39;49;00m(\r\n",
      "            mf_values), \u001b[33m\"\u001b[39;49;00m\u001b[33mInput and MF values are not the same length\u001b[39;49;00m\u001b[33m\"\u001b[39;49;00m\r\n",
      "\r\n",
      "        \u001b[36mself\u001b[39;49;00m._in_values = np.array(in_values)\r\n",
      "        \u001b[36mself\u001b[39;49;00m._mf_values = np.array(mf_values)\r\n",
      "\r\n",
      "    \u001b[34mdef\u001b[39;49;00m \u001b[32mfuzzify\u001b[39;49;00m(\u001b[36mself\u001b[39;49;00m, in_value):\r\n",
      "        \u001b[37m# return the nearest mf value for a given in_value using interpolation\u001b[39;49;00m\r\n",
      "        \u001b[34mreturn\u001b[39;49;00m np.interp(in_value, \u001b[36mself\u001b[39;49;00m._in_values, \u001b[36mself\u001b[39;49;00m._mf_values)\r\n",
      "\r\n",
      "    \u001b[30;01m@property\u001b[39;49;00m\r\n",
      "    \u001b[34mdef\u001b[39;49;00m \u001b[32min_values\u001b[39;49;00m(\u001b[36mself\u001b[39;49;00m):\r\n",
      "        \u001b[34mreturn\u001b[39;49;00m \u001b[36mself\u001b[39;49;00m._in_values\r\n",
      "\r\n",
      "    \u001b[30;01m@property\u001b[39;49;00m\r\n",
      "    \u001b[34mdef\u001b[39;49;00m \u001b[32mmf_values\u001b[39;49;00m(\u001b[36mself\u001b[39;49;00m):\r\n",
      "        \u001b[34mreturn\u001b[39;49;00m \u001b[36mself\u001b[39;49;00m._mf_values\r\n"
     ]
    }
   ],
   "source": [
    "!pygmentize fuzzy_systems/core/membership_functions/free_shape_mf.py"
   ]
  },
  {
   "cell_type": "markdown",
   "metadata": {},
   "source": [
    "## Some examples of membership functions"
   ]
  },
  {
   "cell_type": "markdown",
   "metadata": {},
   "source": [
    "- Common membership functions are \"crisp\" (or Boolean), \"Triangular\", and \"Trapezoidal\"."
   ]
  },
  {
   "cell_type": "code",
   "execution_count": 3,
   "metadata": {},
   "outputs": [
    {
     "name": "stdout",
     "output_type": "stream",
     "text": [
      "[N/A] value 3.2 has been fuzzified to 1.0\n"
     ]
    },
    {
     "data": {
      "image/png": "[encoded data removed]",
      "text/plain": [
       "<matplotlib.figure.Figure at 0x7f3595934278>"
      ]
     },
     "metadata": {},
     "output_type": "display_data"
    }
   ],
   "source": [
    "# import core classes\n",
    "from fuzzy_systems.core.membership_functions.free_shape_mf import FreeShapeMF\n",
    "\n",
    "# import view classes\n",
    "from fuzzy_systems.view.mf_viewer import MembershipFunctionViewer\n",
    "\n",
    "fig, ax = plt.subplots()\n",
    "ax.set_title(\"A crisp membership function\")\n",
    "\n",
    "in_values = [0,1,1,1,3,4,4,5]\n",
    "mf_values = [0,0,1,1,1,1,0,0]\n",
    "\n",
    "mf = FreeShapeMF(in_values, mf_values)\n",
    "mfv = MembershipFunctionViewer(mf, ax=ax, label=\"N/A\")\n",
    "mfv.fuzzify(3.2)\n",
    "plt.legend()\n",
    "plt.show()\n"
   ]
  },
  {
   "cell_type": "markdown",
   "metadata": {},
   "source": [
    "### Triangular MF\n",
    "\n",
    "In the following example we will show an other popular membership function, the triangular membership function.\n",
    "\n",
    "But creating membership functions by hand is painful. Let's create a class that will help us.\n",
    "\n",
    "* Reminder: **you should NOT create a class directly in the notebook**. You must create it in the right folder, here in core/membership_functions."
   ]
  },
  {
   "cell_type": "code",
   "execution_count": 4,
   "metadata": {},
   "outputs": [],
   "source": [
    "class BasicTriangularMF(FreeShapeMF):\n",
    "    def __init__(self, p_min, p_mid, p_max):\n",
    "        in_values = [p_min, p_mid, p_max]\n",
    "        mf_values = [0, 1, 0]\n",
    "        super().__init__(in_values, mf_values)\n"
   ]
  },
  {
   "cell_type": "code",
   "execution_count": 5,
   "metadata": {},
   "outputs": [
    {
     "name": "stdout",
     "output_type": "stream",
     "text": [
      "[N/A] value 14 has been fuzzified to 0.4\n"
     ]
    },
    {
     "data": {
      "image/png": "[encoded data removed]",
      "text/plain": [
       "<matplotlib.figure.Figure at 0x7f359595f2e8>"
      ]
     },
     "metadata": {},
     "output_type": "display_data"
    }
   ],
   "source": [
    "tri_mf = BasicTriangularMF(p_min=10, p_mid=20, p_max=30)\n",
    "\n",
    "fig, ax = plt.subplots()\n",
    "ax.set_title(\"A triangular membership function\")\n",
    "mfv = MembershipFunctionViewer(tri_mf, ax=ax, label=\"N/A\")\n",
    "mfv.fuzzify(14)\n",
    "plt.legend()\n",
    "plt.show()"
   ]
  },
  {
   "cell_type": "markdown",
   "metadata": {},
   "source": [
    "## Linear piecewise MF\n",
    "\n",
    "A linear piecewise membership function (LinPWMF) is a membership that is defined by linear parts (i.e. \"a list of lines\"). It is not common to use LinPWMFs as is but it is very convienient to subclass it to create other common MF such as TrapezoidalMF or TriangularMF.\n",
    "\n",
    "Here is an example of the provided LinPWMF"
   ]
  },
  {
   "cell_type": "code",
   "execution_count": 6,
   "metadata": {},
   "outputs": [
    {
     "name": "stdout",
     "output_type": "stream",
     "text": [
      "\u001b[34mimport\u001b[39;49;00m \u001b[04m\u001b[36mnumpy\u001b[39;49;00m \u001b[34mas\u001b[39;49;00m \u001b[04m\u001b[36mnp\u001b[39;49;00m\r\n",
      "\r\n",
      "\u001b[34mfrom\u001b[39;49;00m \u001b[04m\u001b[36mfuzzy_systems.core.membership_functions.free_shape_mf\u001b[39;49;00m \u001b[34mimport\u001b[39;49;00m FreeShapeMF\r\n",
      "\r\n",
      "\r\n",
      "\u001b[34mdef\u001b[39;49;00m \u001b[32mgen_line\u001b[39;49;00m(p0, p1, n_points):\r\n",
      "    \u001b[33m\"\"\"\u001b[39;49;00m\r\n",
      "\u001b[33m    Generate a line (list of xs and ys) given two points p0 and p1.\u001b[39;49;00m\r\n",
      "\u001b[33m    This function handles vertical and horizontal lines\u001b[39;49;00m\r\n",
      "\u001b[33m    :param p0: a point as x0 and y0\u001b[39;49;00m\r\n",
      "\u001b[33m    :param p1: a point as x1 and y1\u001b[39;49;00m\r\n",
      "\u001b[33m    :param n_points: number of points to generate\u001b[39;49;00m\r\n",
      "\u001b[33m    :return: xs, ys as list of x and list of y of the generated line\u001b[39;49;00m\r\n",
      "\u001b[33m    \"\"\"\u001b[39;49;00m\r\n",
      "    points_same_x = \u001b[36mabs\u001b[39;49;00m(p1[\u001b[34m0\u001b[39;49;00m] - p0[\u001b[34m0\u001b[39;49;00m]) < \u001b[34m1e-6\u001b[39;49;00m\r\n",
      "    points_same_y = \u001b[36mabs\u001b[39;49;00m(p1[\u001b[34m1\u001b[39;49;00m] - p0[\u001b[34m1\u001b[39;49;00m]) < \u001b[34m1e-6\u001b[39;49;00m\r\n",
      "    \u001b[34mif\u001b[39;49;00m points_same_y \u001b[35mand\u001b[39;49;00m points_same_x:\r\n",
      "        \u001b[34mreturn\u001b[39;49;00m [p0[\u001b[34m0\u001b[39;49;00m]], [p0[\u001b[34m1\u001b[39;49;00m]]\r\n",
      "\r\n",
      "    \u001b[34mif\u001b[39;49;00m points_same_x:\r\n",
      "        \u001b[34mreturn\u001b[39;49;00m [p0[\u001b[34m0\u001b[39;49;00m], p1[\u001b[34m0\u001b[39;49;00m]], [p0[\u001b[34m1\u001b[39;49;00m], p1[\u001b[34m1\u001b[39;49;00m]]\r\n",
      "\r\n",
      "    xs = np.linspace(p0[\u001b[34m0\u001b[39;49;00m], p1[\u001b[34m0\u001b[39;49;00m], n_points)\r\n",
      "    slope = (p1[\u001b[34m1\u001b[39;49;00m] - p0[\u001b[34m1\u001b[39;49;00m]) / (p1[\u001b[34m0\u001b[39;49;00m] - p0[\u001b[34m0\u001b[39;49;00m])\r\n",
      "    ys = [slope * (x - p0[\u001b[34m0\u001b[39;49;00m]) + p0[\u001b[34m1\u001b[39;49;00m] \u001b[34mfor\u001b[39;49;00m x \u001b[35min\u001b[39;49;00m xs]\r\n",
      "\r\n",
      "    \u001b[34mreturn\u001b[39;49;00m xs, ys\r\n",
      "\r\n",
      "\r\n",
      "\u001b[34mclass\u001b[39;49;00m \u001b[04m\u001b[32mLinPWMF\u001b[39;49;00m(FreeShapeMF):\r\n",
      "    \u001b[33m\"\"\"\u001b[39;49;00m\r\n",
      "\u001b[33m    This class produce a \"linear piece-wise function\"-like membership function\u001b[39;49;00m\r\n",
      "\u001b[33m    This is a more \"generic\" class to produce linear, triangular and\u001b[39;49;00m\r\n",
      "\u001b[33m    trapezoidal MF.\u001b[39;49;00m\r\n",
      "\u001b[33m\u001b[39;49;00m\r\n",
      "\u001b[33m    Feel free to derive this class to create a TriangularMF, LinearMF,...\u001b[39;49;00m\r\n",
      "\u001b[33m    \"\"\"\u001b[39;49;00m\r\n",
      "\r\n",
      "    \u001b[34mdef\u001b[39;49;00m \u001b[32m__init__\u001b[39;49;00m(\u001b[36mself\u001b[39;49;00m, *p_args, n_points=\u001b[34m50\u001b[39;49;00m):\r\n",
      "        \u001b[33m\"\"\"\u001b[39;49;00m\r\n",
      "\u001b[33m        Create a \"linear piece-wise function\"-like membership function\u001b[39;49;00m\r\n",
      "\u001b[33m        :param p_args: this should at least contain 2 items. Each item is\u001b[39;49;00m\r\n",
      "\u001b[33m        a point represented as an array [x, y] i.e. a point of the desired mf\u001b[39;49;00m\r\n",
      "\u001b[33m        f(x) = y where x is a crisp value and y the assign mf value which is\u001b[39;49;00m\r\n",
      "\u001b[33m        bound to [0,1]\u001b[39;49;00m\r\n",
      "\u001b[33m        :param n_points: as only two points are needed to draw a line, this\u001b[39;49;00m\r\n",
      "\u001b[33m        parameter let you choose the granularity (i.e. the number of points)\u001b[39;49;00m\r\n",
      "\u001b[33m        to compute between all the piece-wise elements of the function.\u001b[39;49;00m\r\n",
      "\u001b[33m        \"\"\"\u001b[39;49;00m\r\n",
      "        \u001b[34massert\u001b[39;49;00m \u001b[36mlen\u001b[39;49;00m(p_args) >= \u001b[34m2\u001b[39;49;00m, \u001b[33m\"\u001b[39;49;00m\u001b[33mCannot produce MF with less than 2 points\u001b[39;49;00m\u001b[33m\"\u001b[39;49;00m\r\n",
      "        n_pts = n_points\r\n",
      "        n_pts_part = \u001b[36mint\u001b[39;49;00m(\u001b[34m1\u001b[39;49;00m / \u001b[36mlen\u001b[39;49;00m(p_args) * n_pts)\r\n",
      "\r\n",
      "        in_values = []\r\n",
      "        mf_values = []\r\n",
      "\r\n",
      "        \u001b[34mfor\u001b[39;49;00m i \u001b[35min\u001b[39;49;00m \u001b[36mrange\u001b[39;49;00m(\u001b[34m1\u001b[39;49;00m, \u001b[36mlen\u001b[39;49;00m(p_args)):\r\n",
      "            xs, ys = gen_line(p_args[i - \u001b[34m1\u001b[39;49;00m], p_args[i], n_points=n_pts_part)\r\n",
      "            in_values.extend(xs)\r\n",
      "            mf_values.extend(ys)\r\n",
      "\r\n",
      "        \u001b[36msuper\u001b[39;49;00m(LinPWMF, \u001b[36mself\u001b[39;49;00m).\u001b[32m__init__\u001b[39;49;00m(in_values, mf_values)\r\n"
     ]
    }
   ],
   "source": [
    "!pygmentize fuzzy_systems/core/membership_functions/lin_piece_wise_mf.py"
   ]
  },
  {
   "cell_type": "code",
   "execution_count": 7,
   "metadata": {},
   "outputs": [
    {
     "name": "stdout",
     "output_type": "stream",
     "text": [
      "[N/A] value 14 has been fuzzified to 0.12\n"
     ]
    },
    {
     "data": {
      "image/png": "[encoded data removed]",
      "text/plain": [
       "<matplotlib.figure.Figure at 0x7f359599fd30>"
      ]
     },
     "metadata": {},
     "output_type": "display_data"
    }
   ],
   "source": [
    "from fuzzy_systems.core.membership_functions.lin_piece_wise_mf import LinPWMF\n",
    "\n",
    "lin_mf = LinPWMF([0, 0.1], [6, 1.0], [12, 0.2], [17, 0.0])\n",
    "\n",
    "fig, ax = plt.subplots()\n",
    "ax.set_title(\"A linear piece-wise membership function\")\n",
    "mfv = MembershipFunctionViewer(lin_mf, ax=ax, label=\"N/A\")\n",
    "mfv.fuzzify(14)\n",
    "plt.legend()\n",
    "plt.show()\n"
   ]
  },
  {
   "cell_type": "markdown",
   "metadata": {},
   "source": [
    "## Exercise"
   ]
  },
  {
   "cell_type": "markdown",
   "metadata": {},
   "source": [
    "**TODO student**\n",
    "\n",
    "- Test the functions above. Play with the parameters of each membership functions and observe the results.\n",
    "\n",
    "- Using the provided functions as starting point, implement a new trapezoidal membership class (**in core/membership_functions/trap_mf.py**) without the constraint of being isosceles. \n",
    "\n",
    "- To implement it, you will need to extends/inherit from LinPWMF. You can use this snippet for example:\n",
    "\n",
    "```python \n",
    "class TrapMF(LinPWMF):\n",
    "    def __init__(self, p0, w, p1):\n",
    "        \"\"\"\n",
    "        TrapMF is a trapezoidal membership function that takes in parameters:\n",
    "        - p0 as the starting point\n",
    "        - w as the width of the area that is fuzzified to 1\n",
    "        - p1 as the ending point\n",
    "        \"\"\"\n",
    "        #TODO student\n",
    "```\n",
    "\n",
    "- Use `MembershipFunctionViewer` to demonstrate how well your implementation works with some relevant test cases/examples."
   ]
  },
  {
   "cell_type": "markdown",
   "metadata": {},
   "source": [
    "                                            <----- w ---->\n",
    "                                            x____________x\n",
    "                                           /             |\n",
    "                                          /              |\n",
    "                                         /               |\n",
    "                                  ______x                x_______\n",
    "                                       p0                p1"
   ]
  },
  {
   "cell_type": "markdown",
   "metadata": {},
   "source": [
    "## To further explore about membership functions... "
   ]
  },
  {
   "cell_type": "markdown",
   "metadata": {},
   "source": [
    "### Singleton MFs\n",
    "\n",
    "**TODO student**\n",
    "\n",
    "\n",
    "                                                 |\n",
    "                                                 |\n",
    "                                                 |\n",
    "                                  _______________|_______________\n",
    "                                  \n",
    "- A special membership function is the so-called \"singleton\", in which all the membership is \"concentrated\" in a single point.\n",
    "    - In your opinion, what is the meaning of such a function?\n",
    "    - Do you see an utility for the use of singleton membership functions?\n",
    "    - Implement a SingletonMF (**in core/membership_functions/singleton_mf.py**). Requirement 1: the constructor is `mf = SingletonMF(x)` where `x` is the input value where `y = 1`. Requirement 2: You must inherit from FreeShapeMF. Tip: you might need to override `fuzzify()` to make it work.\n",
    "    -  Use `MembershipFunctionViewer` to demonstrate how well your implementation works with some relevant test cases/examples.\n",
    "    \n",
    "### Smooth MFs\n",
    "- Smoother membership functions (e.g., Gaussian, exponential, or sigmoid) are also very common in fuzzy logic.\n",
    "    - In your opinion what could be the pros and cons of these smooth functions as compared to their edgier counterparts?\n",
    "\n",
    "### Arbitrary MFs\n",
    "- There is no formal need for a membership function to have a convex, coherent shape (as those explored until now). So, they could be as arbitrary as you want or need.\n",
    "    - In your opinion what could be the pros and cons of using arbitrary membership functions as compared to their well-behaved counterparts?\n"
   ]
  },
  {
   "cell_type": "markdown",
   "metadata": {},
   "source": [
    "-----------------\n",
    "\n",
    "# Please answer below this"
   ]
  },
  {
   "cell_type": "markdown",
   "metadata": {},
   "source": [
    "**TODO student**: \n",
    "\n",
    "- Implement what is asked in the right folders\n",
    "- Write the answer to the questions asked just below. For example:\n",
    "\n",
    ">In your opinion, what is the meaning of such a function?\n",
    "\n",
    "blablabla\n",
    "\n",
    ">Use `MembershipFunctionViewer` to demonstrate how well your implementation works with some relevant test cases/examples.\n",
    "\n",
    "_add some plots here..._"
   ]
  },
  {
   "cell_type": "code",
   "execution_count": 8,
   "metadata": {},
   "outputs": [],
   "source": [
    "#TODO student... "
   ]
  },
  {
   "cell_type": "markdown",
   "metadata": {},
   "source": [
    "### To submit\n",
    "\n",
    "Please make a zip called `lfa_labXX_YY.zip` where `XX` is the lab number and `YY` is your familly name. For example: `lfa_lab02_smith.zip`. \n",
    "\n",
    "The zip must contain all _needed_ the files to run this notebook. That is, don't send your virtualenv (only the requirements.txt). **If any additional steps are required to run your notebook(s)/code, please add a README.md where you indicate all the needed steps to reproduce your work.**"
   ]
  }
 ],
 "metadata": {
  "kernelspec": {
   "display_name": "Python 3",
   "language": "python",
   "name": "python3"
  },
  "language_info": {
   "codemirror_mode": {
    "name": "ipython",
    "version": 3
   },
   "file_extension": ".py",
   "mimetype": "text/x-python",
   "name": "python",
   "nbconvert_exporter": "python",
   "pygments_lexer": "ipython3",
   "version": "3.6.4"
  }
 },
 "nbformat": 4,
 "nbformat_minor": 1
}
