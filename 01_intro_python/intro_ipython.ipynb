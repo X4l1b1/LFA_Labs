{
 "cells": [
  {
   "cell_type": "markdown",
   "metadata": {},
   "source": [
    "# LFA - Laboratoire 0\n",
    "## Introduction to python\n",
    "\n",
    "<i> Modified from lab-1 MLBD, courtesy of Julien Rebetez, Aitana Lebrand. </i>\n",
    "- Professeur: Carlos Peña (<a href=\"mailto:carlos.pena@heig-vd.ch\">carlos.pena@heig-vd.ch</a>)\n",
    "- Assistant 2016: Héctor Satizábal (<a href=\"mailto:hector-fabio.satizaba-mejia@heig-vd.ch\">hector-fabio.satizaba-mejia@heig-vd.ch</a>)\n",
    "- Assistant 2017: Diogo Leite (<a href=\"mailto:diogo.leite@heig-vd.ch\">diogo.leite@heig-vd.ch</a>)\n",
    "- Assistant 2018: Gary Marigliano (<a href=\"mailto:gary.marigliano@heig-vd.ch\">gary.marigliano@heig-vd.ch</a>)\n",
    "\n",
    "Date: Spring 2018"
   ]
  },
  {
   "cell_type": "markdown",
   "metadata": {},
   "source": [
    "> Throughout the laboratories, the questions that you should answer are highlighted as follows :\n",
    "> <p style=\"background-color:#AFEEEE;padding:3px\"><font size=\"4\"><b>0. </b></font> This is a question.</p>"
   ]
  },
  {
   "cell_type": "markdown",
   "metadata": {},
   "source": [
    "## 1. Introduction to IPython notebooks"
   ]
  },
  {
   "cell_type": "markdown",
   "metadata": {},
   "source": [
    "In this laboratory you are going to learn how to perform interactive computing using **IPython**. **IPython** is an interactive shell for python that has more functionnalities than the basic one. \n",
    "\n",
    "**Warning:** This guide does not start from the basics of the general purpose language **python**. If you do not know this language, it is recommended to follow a **python** tutorial in order to learn the basic concepts and commands. You can have a look at the [official python tutorial](https://docs.python.org/2/tutorial/) or [Google's python tutorial](https://developers.google.com/edu/python/) for example.\n",
    "\n",
    "Note that for this course, we will use Python 2.7.X. (Important: do not use Python 3.5.X as it will require performing many adaptations to the current version of the laboratories)\n",
    "\n",
    "You will use a browser-based notebook to interactively explore a dataset by:\n",
    "- Reading raw data from ascii files\n",
    "- Reading typed data (data frames) from ascii files\n",
    "- Selecting specific columns and/or rows from a dataset\n",
    "- Filtering datasets\n",
    "- Plotting the information in the dataset (e.g., scatter-plot, boxplot, histogram)\n",
    "\n",
    "\n",
    "In data science (and related fields) it is common to use Python + Numpy (math) + Matplotlib (plots) + Pandas (data wrangling) + Scipy (stats) + ... You really should follow tutorials to keep up with this course. You can start by reading the following:\n",
    "\n",
    "* [Official python tutorial](https://docs.python.org/2/tutorial/)\n",
    "* [Google's python tutorial](https://developers.google.com/edu/python/)\n",
    "* [Learn Python in 5 minutes](https://learnxinyminutes.com/docs/python/)\n",
    "* [Quick start Numpy tutorial](https://docs.scipy.org/doc/numpy/user/quickstart.html)\n",
    "* [Effective Matplotlib](http://pbpython.com/effective-matplotlib.html)"
   ]
  },
  {
   "cell_type": "markdown",
   "metadata": {},
   "source": [
    "### Using the notebooks"
   ]
  },
  {
   "cell_type": "markdown",
   "metadata": {},
   "source": [
    "You are in an IPython notebook right now. An IPython notebook is a web interface to a Python interpreter.\n",
    "\n",
    "A notebook is made of cells. Each cell has a type which defines what happens when it is run. \n",
    "\n",
    "- Markdown cells allow you to write [Markdown](http://daringfireball.net/projects/markdown/) text in them. They are just displayed as HTML when run.\n",
    "- Code cells contain python code. When the cell is run, the code is sent to the python interpreter, executed and you get the result in the cell output.\n",
    "- Various header cells that allow you to structure your document.\n",
    "\n",
    "You can change the type of a cell using the drop-down menu in the toolbar.\n",
    "\n",
    "You can click (for Code cells) or double-click (for headers and markdown cells) on cells to edit their content. You can then use keyboard shortcuts to run them :\n",
    "\n",
    "- Ctrl + Enter : run in place\n",
    "- Shift + Enter : run and move to next cell\n",
    "- Alt + Enter : run and insert new cell after"
   ]
  },
  {
   "cell_type": "code",
   "execution_count": 4,
   "metadata": {},
   "outputs": [
    {
     "name": "stdout",
     "output_type": "stream",
     "text": [
      "4\n"
     ]
    }
   ],
   "source": [
    "# This is a code cell containing python code !\n",
    "print(2+2)"
   ]
  },
  {
   "cell_type": "markdown",
   "metadata": {},
   "source": [
    "The python interpreter that executes the code you write in the notebook is called a *Kernel*. You can restart the kernel (the interpreter) using the *Kernel* menu. This is useful if you want to delete all your variables."
   ]
  },
  {
   "cell_type": "markdown",
   "metadata": {},
   "source": [
    "Ipython has also \"magic\" functions that start with % . They allow you to do a lot of useful things with your ipython environment :\n",
    "\n",
    "http://nbviewer.ipython.org/github/ipython/ipython/blob/1.x/examples/notebooks/Cell%20Magics.ipynb\n",
    "\n",
    "The %who magic gives you a list of the defined python variables. object? can be used to get documentation about an object :"
   ]
  },
  {
   "cell_type": "code",
   "execution_count": 5,
   "metadata": {},
   "outputs": [
    {
     "name": "stdout",
     "output_type": "stream",
     "text": [
      "a\t i\t \n"
     ]
    }
   ],
   "source": [
    "a = 2\n",
    "%who"
   ]
  },
  {
   "cell_type": "code",
   "execution_count": 7,
   "metadata": {},
   "outputs": [
    {
     "name": "stdout",
     "output_type": "stream",
     "text": [
      "3\n",
      "This is the traditional python help() function :\n",
      "\n",
      "Help on function my_documented_function in module __main__:\n",
      "\n",
      "my_documented_function(a)\n",
      "    This is a revolutionary function that returns a + 1\n",
      "\n",
      "End of help() command output \n",
      "\n"
     ]
    }
   ],
   "source": [
    "def my_documented_function(a):\n",
    "    \"\"\"This is a revolutionary function that returns a + 1\"\"\"\n",
    "    return a + 1\n",
    "\n",
    "print(my_documented_function(2))\n",
    "print('This is the traditional python help() function :\\n')\n",
    "help(my_documented_function)\n",
    "print('End of help() command output \\n')\n",
    "\n",
    "# We can access the same info with just ? (note that you have to run this cell to view the effect).\n",
    "my_documented_function?\n",
    "# The output may be provided in a separate pane in your browser"
   ]
  },
  {
   "cell_type": "markdown",
   "metadata": {},
   "source": [
    "## 2. Scientific computing with NumPy"
   ]
  },
  {
   "cell_type": "markdown",
   "metadata": {},
   "source": [
    "Python has a number of packages (libraries) dedicated to scientific programming :\n",
    "\n",
    "The foundation is [numpy](http://www.numpy.org/) which provides a N-dimensional array implementation with a nice indexing syntax (similar to MATLAB).\n",
    "\n",
    "Then comes [scipy](http://www.scipy.org/) which contains a number of algorithms (signal processing, distance computation, etc...) built on top of numpy.\n",
    "\n",
    "[matplotlib](http://matplotlib.org/) is a library to create 2D plots.\n",
    "\n",
    "[pandas](http://pandas.pydata.org/) provides a DataFrame implementation, which is a layer on top of numpy arrays that makes some things (handling missing values, date indexing) easier. Heavily inspired by the [R](http://www.r-project.org/) statistical computing language.\n",
    "\n",
    "[scikit-learn](http://scikit-learn.org/stable/) is a machine learning library that contains implementations of many of the most popular machine learning algorithms.\n",
    "\n",
    "[theano](http://deeplearning.net/software/theano/) allows you to write programs that are compiled and run on a GPU.\n",
    "\n",
    "Finally, this is not a python package, but [stack overflow](http://stackoverflow.com/) is a really good question-and-answers site where you can probably find answers to the most common problems you'll have :-)"
   ]
  },
  {
   "cell_type": "markdown",
   "metadata": {},
   "source": [
    "For this course, we strongly suggest that you install and use [anaconda](https://store.continuum.io/cshop/anaconda/). It is a \"python distribution\" that comes with a package manager (conda) and all of the scientific packages listed above (and many others) pre-installed."
   ]
  },
  {
   "cell_type": "markdown",
   "metadata": {},
   "source": [
    "## 3. Quick numpy introduction"
   ]
  },
  {
   "cell_type": "markdown",
   "metadata": {},
   "source": [
    "Numpy allows you to define [multidimensionnal arrays](http://docs.scipy.org/doc/numpy/reference/arrays.ndarray.html) (recommended reading)."
   ]
  },
  {
   "cell_type": "code",
   "execution_count": 8,
   "metadata": {},
   "outputs": [
    {
     "name": "stdout",
     "output_type": "stream",
     "text": [
      "(2, 3)\n"
     ]
    },
    {
     "data": {
      "text/plain": [
       "array([[1, 2, 3],\n",
       "       [4, 5, 6]])"
      ]
     },
     "execution_count": 8,
     "metadata": {},
     "output_type": "execute_result"
    }
   ],
   "source": [
    "# Makes the numpy function available as np.<funcname> (np is a convention)\n",
    "import numpy as np\n",
    "\n",
    "array1 = np.array([\n",
    "    [1, 2, 3],\n",
    "    [4, 5, 6]]\n",
    ")\n",
    "\n",
    "print(array1.shape)\n",
    "\n",
    "# The last line of a python cell is evaluated and used as the output for the cell\n",
    "array1"
   ]
  },
  {
   "cell_type": "markdown",
   "metadata": {},
   "source": [
    "The array elements can be accessed using the [indexing syntax](http://docs.scipy.org/doc/numpy/reference/arrays.indexing.html#arrays-indexing) (recommended reading). Numpy (and python) uses 0-based indexing."
   ]
  },
  {
   "cell_type": "code",
   "execution_count": 9,
   "metadata": {},
   "outputs": [
    {
     "name": "stdout",
     "output_type": "stream",
     "text": [
      "element (2,3) :  6\n",
      "first row     :  [1 2 3]\n",
      "second column :  [2 5]\n",
      "second and third element of the second row :  [5 6]\n"
     ]
    }
   ],
   "source": [
    "print(\"element (2,3) : \", array1[1,2])\n",
    "print(\"first row     : \", array1[0,:])\n",
    "print(\"second column : \", array1[:,1])\n",
    "print(\"second and third element of the second row : \", array1[1, 1:])"
   ]
  },
  {
   "cell_type": "markdown",
   "metadata": {},
   "source": [
    "You can do a [lot of things](http://docs.scipy.org/doc/numpy/reference/) with numpy arrays. For example, we can compute the mean of each column :"
   ]
  },
  {
   "cell_type": "code",
   "execution_count": 10,
   "metadata": {},
   "outputs": [
    {
     "data": {
      "text/plain": [
       "array([2., 5.])"
      ]
     },
     "execution_count": 10,
     "metadata": {},
     "output_type": "execute_result"
    }
   ],
   "source": [
    "array1.mean(axis=1)"
   ]
  },
  {
   "cell_type": "markdown",
   "metadata": {},
   "source": [
    "We can also sort an array :"
   ]
  },
  {
   "cell_type": "code",
   "execution_count": 11,
   "metadata": {},
   "outputs": [
    {
     "name": "stdout",
     "output_type": "stream",
     "text": [
      "original      :  [5 8 2 9 4 3]\n",
      "using argsort :  [2 3 4 5 8 9]\n",
      "after sort()  :  [2 3 4 5 8 9]\n"
     ]
    }
   ],
   "source": [
    "array2 = np.array([5, 8, 2, 9, 4, 3])\n",
    "print(\"original      : \", array2)\n",
    "\n",
    "print(\"using argsort : \", array2[np.argsort(array2)]) # the fancy indexing version\n",
    "\n",
    "array2.sort() # not that this does in-place sorting, so it *modifies* array2\n",
    "print(\"after sort()  : \", array2)"
   ]
  },
  {
   "cell_type": "markdown",
   "metadata": {},
   "source": [
    "We can also use comparison operators on arrays, giving us a boolean mask. And then use the mask to index the array :"
   ]
  },
  {
   "cell_type": "code",
   "execution_count": 12,
   "metadata": {},
   "outputs": [
    {
     "name": "stdout",
     "output_type": "stream",
     "text": [
      "[[1 2 3]\n",
      " [4 5 6]]\n",
      "[[False False False]\n",
      " [False  True False]]\n",
      "[5]\n"
     ]
    }
   ],
   "source": [
    "mask = array1 == 5\n",
    "print(array1)\n",
    "print(mask)\n",
    "print(array1[mask])"
   ]
  },
  {
   "cell_type": "markdown",
   "metadata": {},
   "source": [
    "As exercices, do the following :\n",
    "\n",
    "- Compute the max of each row. Each column ?\n",
    "- Print the elements of array1 that are less than 4 (without a for loop)"
   ]
  },
  {
   "cell_type": "code",
   "execution_count": 17,
   "metadata": {},
   "outputs": [
    {
     "name": "stdout",
     "output_type": "stream",
     "text": [
      "3\n",
      "6\n"
     ]
    }
   ],
   "source": [
    "for i in range(2):\n",
    "    print(np.max(array1[i,:]))"
   ]
  },
  {
   "cell_type": "markdown",
   "metadata": {},
   "source": [
    "--- Python have the same loop functions than other programming languages (**for** and **while**) and **if**. You can also use lists to save values."
   ]
  },
  {
   "cell_type": "code",
   "execution_count": 23,
   "metadata": {},
   "outputs": [
    {
     "name": "stdout",
     "output_type": "stream",
     "text": [
      "This is the values: \n",
      "2\n",
      "2\n",
      "14\n",
      "9\n",
      "5\n",
      "count value: 1\n",
      "count value: 4\n",
      "count value: 7\n",
      "count value: 8\n",
      "count value: 10\n",
      "List: [1, 3, 3, 1, 2]\n"
     ]
    }
   ],
   "source": [
    "from random import randint\n",
    "\n",
    "list_values = []\n",
    "\n",
    "array_rnd = np.random.randint(15, size=5)\n",
    "print( \"This is the values: \")\n",
    "for value in array_rnd:\n",
    "    print( value)\n",
    "\n",
    "count = 0\n",
    "while count < 10:\n",
    "    rand_value = randint(0,3)\n",
    "    count += rand_value\n",
    "    list_values.append(rand_value)\n",
    "    print( \"count value: \" + str(count))\n",
    "    \n",
    "    \n",
    "print (\"List: \" + str(list_values))"
   ]
  },
  {
   "cell_type": "markdown",
   "metadata": {},
   "source": [
    "---As exercices, do the following :\n",
    "- Try to implement a function that receive two array with the same size and, in each positision, sum the values if they are pairs save it in a structur and return all the values sorted"
   ]
  },
  {
   "cell_type": "code",
   "execution_count": 58,
   "metadata": {},
   "outputs": [
    {
     "name": "stdout",
     "output_type": "stream",
     "text": [
      "[6.0, 8.0, 16.0, 20.0, 22.0, 24.0, 32.0, 32.0, 34.0]\n"
     ]
    }
   ],
   "source": [
    "array1 = np.array([\n",
    "    [1, 2, 3],\n",
    "    [4, 5, 6],\n",
    "    [1, 2, 3],\n",
    "    [4, 5, 6]]\n",
    ")\n",
    "\n",
    "array2 = np.zeros((4,3))\n",
    "array3 = []\n",
    "for i in range(4):\n",
    "    for j in range(3):\n",
    "        array2[i][j] = np.random.randint(30, size=1)\n",
    "        s = array1[i][j] +  array2[i][j]\n",
    "        if s % 2 == 0:\n",
    "            array3.append(s)\n",
    "array3.sort()\n",
    "print(array3)"
   ]
  },
  {
   "cell_type": "markdown",
   "metadata": {},
   "source": [
    "In python you have dictionary to organise your information by pair key-value"
   ]
  },
  {
   "cell_type": "code",
   "execution_count": 71,
   "metadata": {},
   "outputs": [
    {
     "name": "stdout",
     "output_type": "stream",
     "text": [
      "--- 1 ---\n",
      "red\n",
      "blue\n",
      "orange\n",
      "--- 2 ---\n",
      "red\n",
      "blue\n",
      "orange\n",
      "--- 3 ---\n",
      "4\n",
      "10\n",
      "2\n",
      "--- 4 ---\n",
      "4\n",
      "10\n",
      "2\n"
     ]
    }
   ],
   "source": [
    "#this is an empty dictionary\n",
    "dict_empty = {}\n",
    "#this is a dictionary with values\n",
    "dict_values = {\"red\":4, \"blue\":10, \"orange\":2}\n",
    "#Some possibles ways to see the contents\n",
    "print( \"--- 1 ---\")\n",
    "for key in dict_values.keys():\n",
    "    print(key)\n",
    "\n",
    "print (\"--- 2 ---\")\n",
    "for key in dict_values.keys():\n",
    "    print( key)\n",
    "    \n",
    "print( \"--- 3 ---\")\n",
    "for val in dict_values.values():\n",
    "    print( val)\n",
    "    \n",
    "print( \"--- 4 ---\")\n",
    "for key in dict_values.keys():\n",
    "    print(dict_values[key])\n",
    "    "
   ]
  },
  {
   "cell_type": "markdown",
   "metadata": {},
   "source": [
    "--As exercices, do the following :\n",
    "Create a cycle that count even and odd values in \"vec_values\" and save the frequency in \"dict_results\""
   ]
  },
  {
   "cell_type": "code",
   "execution_count": 82,
   "metadata": {},
   "outputs": [
    {
     "name": "stdout",
     "output_type": "stream",
     "text": [
      "{'even': 5, 'odd': 6}\n"
     ]
    }
   ],
   "source": [
    "vec_values = [1,2,3,4,5,6,7,8,9,10,11]\n",
    "dict_results = {\"even\":0, \"odd\":0}\n",
    "for i in range(len(vec_values)):\n",
    "    if vec_values[i] % 2 == 0:\n",
    "        dict_results['even'] += 1\n",
    "    else:\n",
    "        dict_results['odd'] += 1\n",
    "        \n",
    "print(dict_results)"
   ]
  },
  {
   "cell_type": "markdown",
   "metadata": {},
   "source": [
    "## 4. Functions\n",
    "\n",
    "During this course we will use many times functions to represent the information. In this part we try to introduce you how to use it. The functions used have some limitations:\n",
    "* They have a personalized dimension in the x axis but the y axis is limited to 0 for the minimum value and 1 for the maximum.\n",
    "* It's only possible to draw functions triangular (in this laboratory)\n",
    "\n",
    "To plots the functionality it's necessary to have to values of both axis:\n",
    "* For x axis we use numpy arrange given the minimum and maximum x values and the range used to map the values in y axis\n",
    "* For the y axis it's used calculate_yaxis_value function to map the values that receive three parameters:\n",
    " * the x axis array\n",
    " * the coordinate of the top of the triangle\n",
    " * the size of the base of the triangle (consider that the half length is used for both size)\n"
   ]
  },
  {
   "cell_type": "code",
   "execution_count": 99,
   "metadata": {},
   "outputs": [
    {
     "data": {
      "image/png": "[encoded data removed]",
      "text/plain": [
       "<matplotlib.figure.Figure at 0x7fd79e4f35f8>"
      ]
     },
     "metadata": {},
     "output_type": "display_data"
    },
    {
     "data": {
      "image/png": "[encoded data removed]",
      "text/plain": [
       "<matplotlib.figure.Figure at 0x7fd79c8c55c0>"
      ]
     },
     "metadata": {},
     "output_type": "display_data"
    },
    {
     "data": {
      "image/png": "[encoded data removed]",
      "text/plain": [
       "<matplotlib.figure.Figure at 0x7fd79c8c0710>"
      ]
     },
     "metadata": {},
     "output_type": "display_data"
    }
   ],
   "source": [
    "import matplotlib.pyplot as plt\n",
    "import numpy as np\n",
    "\n",
    "%matplotlib inline\n",
    "\n",
    "\n",
    "def calculate_map_value(value_map, middle_value, h_long_value):\n",
    "    slope_value = 1.0 / h_long_value\n",
    "    if value_map < (middle_value - h_long_value):\n",
    "        return 0.0\n",
    "    elif value_map > (middle_value + h_long_value):\n",
    "        return 0.0\n",
    "    else:\n",
    "        return 1.0 - (np.abs(value_map - middle_value) * slope_value)\n",
    "\n",
    "def calculate_yaxis_value(vec_xaxis, cent_point, long_dist):\n",
    "    count_aux = 0\n",
    "    vec_yaxis_value = np.zeros(len(vec_xaxis_value))\n",
    "    for value in vec_xaxis_value:\n",
    "        vec_yaxis_value[count_aux] = calculate_map_value(value, center_point, half_lenght_value)\n",
    "        count_aux += 1\n",
    "    return vec_yaxis_value\n",
    "\n",
    "#Simple plot example\n",
    "x = np.array([1, 10, 20])\n",
    "y = np.array([0, 1, 1])\n",
    "plt.title(\"Simple example\")\n",
    "plt.plot(x, y)\n",
    "\n",
    "plt.show()\n",
    "\n",
    "#example of two triangular functions\n",
    "center_point = 5\n",
    "half_lenght_value = 3\n",
    "vec_xaxis_value = np.arange(0, 10, 0.1)\n",
    "\n",
    "vec_yaxis_val = calculate_yaxis_value(vec_xaxis_value, center_point, half_lenght_value)\n",
    "\n",
    "\n",
    "center_point = 3\n",
    "half_lenght_value = 2\n",
    "vec_xaxis_value_B = np.arange(0, 10, 0.1)\n",
    "\n",
    "vec_yaxis_val_B = calculate_yaxis_value(vec_xaxis_value, center_point, half_lenght_value)\n",
    "\n",
    "    \n",
    "plt.plot(vec_xaxis_value, vec_yaxis_val)\n",
    "plt.title(\"Example 1\")\n",
    "plt.show()\n",
    "plt.title(\"Example 2\")\n",
    "plt.plot(vec_xaxis_value_B, vec_yaxis_val_B)\n",
    "plt.show()"
   ]
  },
  {
   "cell_type": "markdown",
   "metadata": {},
   "source": [
    "As exercises, do the following :\n",
    "- create a function to calculate the maximum, minimum and product between two functions"
   ]
  },
  {
   "cell_type": "code",
   "execution_count": 106,
   "metadata": {},
   "outputs": [
    {
     "ename": "IndexError",
     "evalue": "index 100 is out of bounds for axis 0 with size 100",
     "output_type": "error",
     "traceback": [
      "\u001b[0;31m---------------------------------------------------------------------------\u001b[0m",
      "\u001b[0;31mIndexError\u001b[0m                                Traceback (most recent call last)",
      "\u001b[0;32m<ipython-input-106-f515e8da4a95>\u001b[0m in \u001b[0;36m<module>\u001b[0;34m()\u001b[0m\n\u001b[1;32m     42\u001b[0m     \u001b[0;32mreturn\u001b[0m \u001b[0mvec_xaxis\u001b[0m\u001b[0;34m,\u001b[0m \u001b[0mvec_yaxis\u001b[0m\u001b[0;34m\u001b[0m\u001b[0m\n\u001b[1;32m     43\u001b[0m \u001b[0;34m\u001b[0m\u001b[0m\n\u001b[0;32m---> 44\u001b[0;31m \u001b[0mplt\u001b[0m\u001b[0;34m.\u001b[0m\u001b[0mplot\u001b[0m\u001b[0;34m(\u001b[0m\u001b[0mcalculate_product_value\u001b[0m\u001b[0;34m(\u001b[0m\u001b[0mvec_xaxis_value\u001b[0m\u001b[0;34m,\u001b[0m \u001b[0mvec_xaxis_value_B\u001b[0m\u001b[0;34m,\u001b[0m \u001b[0mvec_yaxis_val\u001b[0m\u001b[0;34m,\u001b[0m \u001b[0mvec_yaxis_val_B\u001b[0m\u001b[0;34m)\u001b[0m\u001b[0;34m)\u001b[0m\u001b[0;34m\u001b[0m\u001b[0m\n\u001b[0m",
      "\u001b[0;32m<ipython-input-106-f515e8da4a95>\u001b[0m in \u001b[0;36mcalculate_product_value\u001b[0;34m(vec_xaxis_A, vec_xaxis_B, vec_yaxis_A, vec_yaxis_B)\u001b[0m\n\u001b[1;32m     35\u001b[0m             \u001b[0;32mif\u001b[0m \u001b[0mvalue\u001b[0m \u001b[0;34m==\u001b[0m \u001b[0mvalue_B\u001b[0m\u001b[0;34m:\u001b[0m\u001b[0;34m\u001b[0m\u001b[0m\n\u001b[1;32m     36\u001b[0m                 \u001b[0mvec_xaxis\u001b[0m\u001b[0;34m.\u001b[0m\u001b[0mappend\u001b[0m\u001b[0;34m(\u001b[0m\u001b[0mvalue\u001b[0m\u001b[0;34m)\u001b[0m\u001b[0;34m\u001b[0m\u001b[0m\n\u001b[0;32m---> 37\u001b[0;31m                 \u001b[0mvec_yaxis\u001b[0m\u001b[0;34m[\u001b[0m\u001b[0mi\u001b[0m\u001b[0;34m]\u001b[0m \u001b[0;34m=\u001b[0m \u001b[0mvec_yaxis_A\u001b[0m\u001b[0;34m[\u001b[0m\u001b[0mj\u001b[0m\u001b[0;34m]\u001b[0m \u001b[0;34m*\u001b[0m \u001b[0mvec_yaxis_B\u001b[0m\u001b[0;34m[\u001b[0m\u001b[0mj\u001b[0m\u001b[0;34m]\u001b[0m\u001b[0;34m\u001b[0m\u001b[0m\n\u001b[0m\u001b[1;32m     38\u001b[0m                 \u001b[0mi\u001b[0m \u001b[0;34m+=\u001b[0m \u001b[0;36m1\u001b[0m\u001b[0;34m\u001b[0m\u001b[0m\n\u001b[1;32m     39\u001b[0m                 \u001b[0;32mcontinue\u001b[0m\u001b[0;34m\u001b[0m\u001b[0m\n",
      "\u001b[0;31mIndexError\u001b[0m: index 100 is out of bounds for axis 0 with size 100"
     ]
    }
   ],
   "source": [
    "def calculate_max(vec_yaxis_A, vec_yaxis_B):\n",
    "    max_A = -sys.maxsize -1\n",
    "    max_B = -sys.maxsize -1\n",
    "    i = 0\n",
    "    for value in vec_xaxis_A:\n",
    "        if value > max_A:\n",
    "            max_A = value\n",
    "        if vec_yaxis_B[i] > max_B:\n",
    "            max_B = vac_yaxis[i]\n",
    "            i += 1\n",
    "            \n",
    "    return max_A if max_A > max_B else max_B\n",
    "\n",
    "def calculate_min(vec_xaxis, vac_yaxis):\n",
    "    min_A = sys.maxsize\n",
    "    min_B = sys.maxsize\n",
    "    i = 0\n",
    "    for value in vec_xaxis_A:\n",
    "        if value < max_A:\n",
    "            min_A = value\n",
    "        if vec_yaxis_B[i] < max_B:\n",
    "            min_B = vac_yaxis[i]\n",
    "            i += 1\n",
    "            \n",
    "    return min_A if min_A > min_B else min_B\n",
    "\n",
    "\n",
    "def calculate_product_value(vec_xaxis_A, vec_xaxis_B, vec_yaxis_A, vec_yaxis_B):\n",
    "    vec_yaxis = np.zeros(len(vec_xaxis_A))\n",
    "    vec_xaxis = []\n",
    "    i = 0\n",
    "    j = 0\n",
    "    for value in vec_xaxis_A:\n",
    "        value_B = \n",
    "        if value == value_B:\n",
    "            vec_xaxis.append(value)\n",
    "            vec_yaxis[i] = vec_yaxis_A[j] * vec_yaxis_B[j]\n",
    "            i += 1\n",
    "            continue\n",
    "            j += 1\n",
    "    \n",
    "    return vec_xaxis, vec_yaxis\n",
    "\n",
    "plt.plot(calculate_product_value(vec_xaxis_value, vec_xaxis_value_B, vec_yaxis_val, vec_yaxis_val_B))"
   ]
  },
  {
   "cell_type": "markdown",
   "metadata": {},
   "source": [
    "As exercises, do the following :\n",
    "- create a function that cut the triangular function in a y values as:"
   ]
  },
  {
   "cell_type": "raw",
   "metadata": {},
   "source": [
    "   ______\n",
    "  /      \\\n",
    " /        \\\n",
    "/          \\"
   ]
  },
  {
   "cell_type": "code",
   "execution_count": null,
   "metadata": {},
   "outputs": [],
   "source": []
  },
  {
   "cell_type": "markdown",
   "metadata": {},
   "source": [
    "## 5. Classifying the Iris flower dataset\n",
    "\n",
    "We will use the <a href=\"https://en.wikipedia.org/wiki/Iris_flower_data_set\">Iris flower dataset</a> to introduce you to the basics of plotting and machine learning (classification). This dataset contains 150 entries of irises with their petal and sepal lengths/widths. Three different classes of irises are present in this dataset (Setosa, Versicolour, and Virginica). Your goal will be to build a classifier that can recognize the iris class, based on the petal length and petal width. \n",
    "\n",
    "Start by loading the data."
   ]
  },
  {
   "cell_type": "code",
   "execution_count": 14,
   "metadata": {},
   "outputs": [],
   "source": [
    "from sklearn import datasets\n",
    "iris = datasets.load_iris()\n",
    "X = iris.data[:, 2:]  # we only take the last two features.\n",
    "Y = iris.target"
   ]
  },
  {
   "cell_type": "markdown",
   "metadata": {},
   "source": [
    "### Visualization\n",
    "\n",
    "Visualize the data using a scatter plot."
   ]
  },
  {
   "cell_type": "code",
   "execution_count": 15,
   "metadata": {},
   "outputs": [
    {
     "name": "stdout",
     "output_type": "stream",
     "text": [
      "Populating the interactive namespace from numpy and matplotlib\n"
     ]
    },
    {
     "data": {
      "text/plain": [
       "Text(0,0.5,u'Petal width')"
      ]
     },
     "execution_count": 15,
     "metadata": {},
     "output_type": "execute_result"
    },
    {
     "data": {
      "image/png": "[encoded data removed]",
      "text/plain": [
       "<matplotlib.figure.Figure at 0x7f2b18058a10>"
      ]
     },
     "metadata": {},
     "output_type": "display_data"
    }
   ],
   "source": [
    "import pylab as pl # pylab is matplotlib\n",
    "# The line below enables matplotlib-ipython integration and allows plots to be displayed inline in the\n",
    "# notebook. The --no-import-all is to avoid polluting our namespace with a import *\n",
    "%pylab inline --no-import-all\n",
    "\n",
    "pl.scatter(X[:, 0], X[:, 1], c=Y)\n",
    "pl.xlabel('Petal length')\n",
    "pl.ylabel('Petal width')"
   ]
  },
  {
   "cell_type": "markdown",
   "metadata": {},
   "source": [
    "<p style=\"background-color:#AFEEEE;padding:3px\"><font size=\"4\"><b>5.1. </b></font> By looking at this scatter plot, do you feel that building a classifier of iris class based on petal length and petal width will be an easy task? (Justify briefly)</p>"
   ]
  },
  {
   "cell_type": "markdown",
   "metadata": {},
   "source": [
    "Votre réponse..."
   ]
  },
  {
   "cell_type": "markdown",
   "metadata": {},
   "source": [
    "### Classification"
   ]
  },
  {
   "cell_type": "markdown",
   "metadata": {},
   "source": [
    "To build and evaluate a machine learning model, we need to split our data into training and testing sets. Scikit learn has a [cross_validation](http://scikit-learn.org/stable/modules/cross_validation.html#cross-validation) module that helps with this task."
   ]
  },
  {
   "cell_type": "code",
   "execution_count": 16,
   "metadata": {},
   "outputs": [
    {
     "name": "stdout",
     "output_type": "stream",
     "text": [
      "('train shape : ', (90, 2))\n",
      "('test shape  : ', (60, 2))\n"
     ]
    }
   ],
   "source": [
    "from sklearn.model_selection import train_test_split \n",
    "# train and test are indices arrays containing the indices of train/test samples\n",
    "X_train, X_test, y_train, y_test = train_test_split(\n",
    "    X, Y, test_size=0.4, random_state=0 # we fix random state for reproducibility)\n",
    ")\n",
    "\n",
    "print(\"train shape : \", X_train.shape)\n",
    "print(\"test shape  : \", X_test.shape)"
   ]
  },
  {
   "cell_type": "markdown",
   "metadata": {},
   "source": [
    "We'll use the [k Nearest Neighbor](http://en.wikipedia.org/wiki/K-nearest_neighbors_algorithm) to classify the iris flower dataset. This classifier will classify a new sample by assigning it the class of its k-nearest neighbors.\n",
    "\n",
    "The algorithm therefore consists of the following three steps:\n",
    "- compute the distance between a sample in the test set and all the samples in the training set\n",
    "- find the k-nearest neighbors in the training set\n",
    "- assign a class to the sample in the test set by taking the majority class among the k-nearest neighbors."
   ]
  },
  {
   "cell_type": "code",
   "execution_count": 17,
   "metadata": {},
   "outputs": [],
   "source": [
    "from sklearn import neighbors\n",
    "\n",
    "n_neighbors = 5 # k=5, i.e. 5-nearest neighbors\n",
    "\n",
    "clf = neighbors.KNeighborsClassifier(n_neighbors) \n",
    "clf.fit(X_train, y_train)\n",
    "\n",
    "# predict class of entries in the test set\n",
    "pred_kNN = clf.predict(X_test)"
   ]
  },
  {
   "cell_type": "markdown",
   "metadata": {},
   "source": [
    "In order to visualize the performance of the classifier, represent the confusion matrix:"
   ]
  },
  {
   "cell_type": "code",
   "execution_count": 18,
   "metadata": {},
   "outputs": [
    {
     "data": {
      "image/png": "[encoded data removed]",
      "text/plain": [
       "<matplotlib.figure.Figure at 0x7f2aeaf1f890>"
      ]
     },
     "metadata": {},
     "output_type": "display_data"
    }
   ],
   "source": [
    "from sklearn.metrics import confusion_matrix\n",
    "\n",
    "def plot_confusion_matrix_iris(cm, title='Confusion matrix', cmap=plt.cm.Blues):\n",
    "    plt.imshow(cm, interpolation='nearest', cmap=cmap)\n",
    "    plt.title(title)\n",
    "    plt.colorbar()\n",
    "    tick_marks = np.arange(len(iris.target_names))\n",
    "    plt.xticks(tick_marks, iris.target_names, rotation=45)\n",
    "    plt.yticks(tick_marks, iris.target_names)\n",
    "    plt.tight_layout()\n",
    "    plt.ylabel('True label')\n",
    "    plt.xlabel('Predicted label')\n",
    "cm = confusion_matrix(y_test,pred_kNN)\n",
    "plot_confusion_matrix_iris(cm)"
   ]
  },
  {
   "cell_type": "markdown",
   "metadata": {},
   "source": [
    "<p style=\"background-color:#AFEEEE;padding:3px\"><font size=\"4\"><b>5.2. </b></font> Explain (briefly) what this confusion matrix shows.</p>"
   ]
  },
  {
   "cell_type": "markdown",
   "metadata": {},
   "source": [
    "Votre réponse..."
   ]
  },
  {
   "cell_type": "markdown",
   "metadata": {},
   "source": [
    "In order to have a quantitative measure of performance, several <a href=\"https://en.wikipedia.org/wiki/Precision_and_recall\">metrics</a> can be used. In the following, we use accuracy, i.e. the proportion of true results (both true positives and true negatives) among the total number of cases examined. Note that in general, you should use several metrics, depending on the problem."
   ]
  },
  {
   "cell_type": "code",
   "execution_count": 19,
   "metadata": {},
   "outputs": [
    {
     "name": "stdout",
     "output_type": "stream",
     "text": [
      "Accuracy = 95.0%\n"
     ]
    }
   ],
   "source": [
    "from sklearn.metrics import accuracy_score\n",
    "acc = accuracy_score(y_test, pred_kNN)\n",
    "print('Accuracy = '+str(100*acc)+'%')"
   ]
  },
  {
   "cell_type": "markdown",
   "metadata": {},
   "source": [
    "<p style=\"background-color:#AFEEEE;padding:3px\"><font size=\"4\"><b>5.3. </b></font> In our example, we only used two features (petal length and petal width). Try classifying with all four features and compare the performance. Try also varying the number of neighbors, k.</p>"
   ]
  },
  {
   "cell_type": "markdown",
   "metadata": {},
   "source": [
    "Votre réponse... Décrivez brièvement les résultats que vous obtenez et vos conclusions."
   ]
  },
  {
   "cell_type": "markdown",
   "metadata": {},
   "source": [
    "### ALLER PLUS LOIN...\n",
    "\n",
    "Si le machine learning vous parle et que vous souhaitez voir un cas d'application plus réel plutôt qu'un \"toy dataset\", vous pouvez consulter également le <a href=\"http://193.134.218.37/labs/lab1/lab1.zip\">notebook suivant</a> et aller directement à la section \"WINE\"."
   ]
  },
  {
   "cell_type": "markdown",
   "metadata": {},
   "source": [
    "## 6. Cool links"
   ]
  },
  {
   "cell_type": "markdown",
   "metadata": {},
   "source": [
    "### Scikit-learn cheatsheet"
   ]
  },
  {
   "cell_type": "markdown",
   "metadata": {},
   "source": [
    "There is a [cheatsheet](http://scikit-learn.org/stable/tutorial/machine_learning_map/) available on scikit-learn's website that help you choose an algorithm when you're lost. It is of course simplified and doesn't include all algorithms and criterions, but it is a good starting point."
   ]
  },
  {
   "cell_type": "markdown",
   "metadata": {},
   "source": [
    "### Interesting ipython notebooks"
   ]
  },
  {
   "cell_type": "markdown",
   "metadata": {},
   "source": [
    "[nbviewer.ipython.org](http://nbviewer.ipython.org/) has a nice collection of ipython notebooks that showcase various libraries (and even different languages) that you can use with ipython."
   ]
  }
 ],
 "metadata": {
  "kernelspec": {
   "display_name": "Python 2",
   "language": "python",
   "name": "python2"
  },
  "language_info": {
   "codemirror_mode": {
    "name": "ipython",
    "version": 3
   },
   "file_extension": ".py",
   "mimetype": "text/x-python",
   "name": "python",
   "nbconvert_exporter": "python",
   "pygments_lexer": "ipython3",
   "version": "3.6.4"
  }
 },
 "nbformat": 4,
 "nbformat_minor": 1
}
